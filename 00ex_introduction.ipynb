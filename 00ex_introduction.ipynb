{
 "cells": [
  {
   "cell_type": "markdown",
   "metadata": {},
   "source": [
    "1. The MickeyMouse problem\n",
    "\n",
    "a) Write a program that prints the numbers from 1 to 100. But for multiples of 3 print `Mickey` instead of the corresponding number and for the multiples of 5 print `Mouse`. For numbers which are multiples of both three and five print `MickeyMouse`\n",
    "\n",
    "b) Put the result in a tuple and substitute `Mickey` with `Donald` and `Mouse` with `Duck`"
   ]
  },
  {
   "cell_type": "code",
   "execution_count": 3,
   "metadata": {},
   "outputs": [
    {
     "name": "stdout",
     "output_type": "stream",
     "text": [
      "('Donald', 'Duck', 'Donald', 'Donald', 'Duck', 'Donald', 'DonaldDuck', 'Donald', 'Duck', 'Donald', 'Donald', 'Duck', 'Donald', 'DonaldDuck', 'Donald', 'Duck', 'Donald', 'Donald', 'Duck', 'Donald', 'DonaldDuck', 'Donald', 'Duck', 'Donald', 'Donald', 'Duck', 'Donald', 'DonaldDuck', 'Donald', 'Duck', 'Donald', 'Donald', 'Duck', 'Donald', 'DonaldDuck', 'Donald', 'Duck', 'Donald', 'Donald', 'Duck', 'Donald', 'DonaldDuck', 'Donald', 'Duck', 'Donald', 'Donald', 'Duck')\n"
     ]
    }
   ],
   "source": [
    "#a)\n",
    "\n",
    "List = []\n",
    "\n",
    "for i in range(1, 101):\n",
    "\n",
    "   if (i%3 == 0 and i%5==0):\n",
    "      #print(i, \"\\t MickeyMouse\")\n",
    "      List.append(\"MickeyMouse\")\n",
    "\n",
    "   elif i%3 == 0:\n",
    "      #print(i, \"\\t Mickey\")\n",
    "      List.append(\"Mickey\")\n",
    "   \n",
    "   elif i%5 == 0:\n",
    "      #print(i, \"\\t Mouse\")\n",
    "      List.append(\"Mouse\")\n",
    "\n",
    "   #else:\n",
    "      #print(i)\n",
    "\n",
    "\n",
    "\n",
    "#! REMEMBER THIS!\n",
    "#b)\n",
    "\n",
    "Replace1 = [x.replace('Mickey', 'Donald') for x in List]\n",
    "Replace2 = [x.replace('Mouse', 'Duck') for x in Replace1]\n",
    "\n",
    "Tuple = tuple(Replace2)\n",
    "\n",
    "print(Tuple)\n"
   ]
  },
  {
   "cell_type": "markdown",
   "metadata": {},
   "source": [
    "2\\. The swap function\n",
    "\n",
    "Write a function that swap the values of two input variables x and y (whatever the type). Try to do that also without a temporary variable"
   ]
  },
  {
   "cell_type": "code",
   "execution_count": 5,
   "metadata": {},
   "outputs": [
    {
     "name": "stdout",
     "output_type": "stream",
     "text": [
      "Starting values:  3 4\n",
      "Using temp func:  4 3\n",
      "Without temp func:  4 3\n"
     ]
    }
   ],
   "source": [
    "#Temporary method\n",
    "\n",
    "def TempFunc(x, y):\n",
    "   t = x\n",
    "   x = y\n",
    "   y = t\n",
    "   return print(\"Using temp func: \" , x, y)\n",
    "\n",
    "def NoTempFunc(x, y):\n",
    "   return print(\"Without temp func: \", y, x)\n",
    "\n",
    "x, y = 3, 4\n",
    "\n",
    "print(\"Starting values: \", x, y)\n",
    "TempFunc(x, y)\n",
    "NoTempFunc(x, y)"
   ]
  },
  {
   "cell_type": "markdown",
   "metadata": {},
   "source": [
    "3\\. Computing the distance\n",
    "\n",
    "Write a function that calculates and returns the euclidean distance between two points *u* and *v*, where *u* and *v* are both 2-tuples *(x,y)*. For example, if *u=(3,0)* and *v=(0,4)*, the function should return 5"
   ]
  },
  {
   "cell_type": "code",
   "execution_count": 4,
   "metadata": {},
   "outputs": [
    {
     "name": "stdout",
     "output_type": "stream",
     "text": [
      "5.0\n"
     ]
    }
   ],
   "source": [
    "from math import sqrt\n",
    "\n",
    "u, v = (3, 0), (0, 4)\n",
    "\n",
    "def EuclideanDist(u, v):\n",
    "   return sqrt((u[0] - v[0])**2 + (u[1] - v[1])**2)\n",
    "\n",
    "Dist = EuclideanDist(u, v)\n",
    "print(Dist)"
   ]
  },
  {
   "cell_type": "markdown",
   "metadata": {},
   "source": [
    "4\\. Counting letters\n",
    "\n",
    "Write a program to calculate the number of times each character occurs in a given string *s*. Ignore differneces in capitalization"
   ]
  },
  {
   "cell_type": "code",
   "execution_count": 12,
   "metadata": {},
   "outputs": [
    {
     "name": "stdout",
     "output_type": "stream",
     "text": [
      "t appears  25\n",
      "h appears  21\n",
      "e appears  41\n",
      "  appears  68\n",
      "c appears  11\n",
      "r appears  19\n",
      "i appears  14\n",
      "s appears  18\n",
      "p appears  10\n",
      "a appears  26\n",
      "u appears  11\n",
      "m appears  5\n",
      "n appears  15\n",
      "b appears  3\n",
      "z appears  1\n",
      "d appears  15\n",
      "o appears  12\n",
      "g appears  7\n",
      "l appears  16\n",
      "v appears  4\n",
      "w appears  5\n",
      "f appears  9\n",
      ". appears  3\n",
      "y appears  5\n",
      "k appears  3\n",
      ", appears  3\n",
      "q appears  1\n"
     ]
    }
   ],
   "source": [
    "s = \"The crisp autumn breeze danced through the golden leaves as the small town prepared for its annual harvest festival. \\\n",
    "   Children laughed as they raced to carve the biggest pumpkins, while the scent of freshly baked pies filled the air. \\\n",
    "   In the center of the square, a group of musicians played cheerful folk tunes, drawing a crowd that clapped and swayed to the rhythm.\"\n",
    "\n",
    "\n",
    "#! QUESTO È IMPORTANTE\n",
    "\n",
    "def CountChar(s):\n",
    "   s = s.lower()\n",
    "\n",
    "   Counts = {}\n",
    "\n",
    "   for char in s:\n",
    "      if char in Counts:\n",
    "         Counts[char] += 1\n",
    "\n",
    "      else:\n",
    "         Counts[char] = 1\n",
    "\n",
    "   return Counts\n",
    "\n",
    "Dict = CountChar(s)\n",
    "\n",
    "Dict\n",
    "\n",
    "for key in Dict:\n",
    "\tprint(key, \"appears \", Dict[key])\n"
   ]
  },
  {
   "cell_type": "markdown",
   "metadata": {},
   "source": [
    "5\\. Isolating the unique\n",
    "\n",
    "Write a function that determines and count the unique numbers in the list *l*"
   ]
  },
  {
   "cell_type": "code",
   "execution_count": null,
   "metadata": {},
   "outputs": [
    {
     "name": "stdout",
     "output_type": "stream",
     "text": [
      "[58, 74, 96, 64, 10, 24, 19, 33, 86, 99, 18, 47, 88, 55, 54, 8, 79, 81, 57, 37, 1, 9, 95, 90, 98, 39, 16, 82, 92, 41, 30, 94, 5, 72, 87, 75, 53]\n"
     ]
    }
   ],
   "source": [
    "l = [36, 45, 58, 3, 74, 96, 64, 45, 31, 10, 24, 19, 33, 86, 99, 18, 63, 70, 85,\n",
    " 85, 63, 47, 56, 42, 70, 84, 88, 55, 20, 54, 8, 56, 51, 79, 81, 57, 37, 91,\n",
    " 1, 84, 84, 36, 66, 9, 89, 50, 42, 91, 50, 95, 90, 98, 39, 16, 82, 31, 92, 41,\n",
    " 45, 30, 66, 70, 34, 85, 94, 5, 3, 36, 72, 91, 84, 34, 87, 75, 53, 51, 20, 89, 51, 20]\n",
    "\n",
    "#! IMPORTANTE \n",
    "def UniqueValues(l):\n",
    "   Uniq = [x for x in l if l.count(x) == 1]\n",
    "   return Uniq\n",
    "\n",
    "Unique = UniqueValues(l)\n",
    "print(Unique)"
   ]
  },
  {
   "cell_type": "markdown",
   "metadata": {},
   "source": [
    "6\\. Combination of functions\n",
    "\n",
    "Write two functions - one that returns the square of a number, and one that returns the cube. Now write a third function that returns the number raised to the 6th power using the two previous functions."
   ]
  },
  {
   "cell_type": "code",
   "execution_count": 36,
   "metadata": {},
   "outputs": [
    {
     "name": "stdout",
     "output_type": "stream",
     "text": [
      "15625\n"
     ]
    }
   ],
   "source": [
    "def Square(x):\n",
    "   return x**2\n",
    "\n",
    "def Third(x):\n",
    "   return x**3\n",
    "\n",
    "def Sixth(x):\n",
    "   return Square(Third(x))\n",
    "\n",
    "print(Sixth(5))"
   ]
  },
  {
   "cell_type": "markdown",
   "metadata": {},
   "source": [
    "7\\. Cubes\n",
    "\n",
    "Create a list of the cubes of x for x in *[0, 10]* using:\n",
    "\n",
    "a) a for loop\n",
    "\n",
    "b) a list comprehension"
   ]
  },
  {
   "cell_type": "code",
   "execution_count": 37,
   "metadata": {},
   "outputs": [
    {
     "name": "stdout",
     "output_type": "stream",
     "text": [
      "[1, 8, 27, 64, 125, 216, 343, 512, 729, 1000]\n",
      "[1, 8, 27, 64, 125, 216, 343, 512, 729, 1000]\n"
     ]
    }
   ],
   "source": [
    "List = []\n",
    "\n",
    "for i in range(1, 11):\n",
    "   List.append(i**3)\n",
    "\n",
    "List1 = [x**3 for x in range(1, 11)]\n",
    "\n",
    "print(List)\n",
    "print(List1)\n"
   ]
  },
  {
   "cell_type": "code",
   "execution_count": 13,
   "metadata": {},
   "outputs": [],
   "source": [
    "# import numpy as np\n",
    "\n",
    "# n = 101\n",
    "\n",
    "# PythList = []\n",
    "\n",
    "# aSquared = np.array([x**2 for x in range(n)])\n",
    "# bSquared = np.array([x**2 for x in range(n)])\n",
    "# cSquared = np.array([x**2 for x in range(n)])\n",
    "\n",
    "# abMatrix = aSquared[:, np.newaxis] + bSquared[np.newaxis, :]\n",
    "\n",
    "# abMatrix"
   ]
  },
  {
   "cell_type": "markdown",
   "metadata": {},
   "source": [
    "8\\. Nested list comprehension\n",
    "\n",
    "A Pythagorean triple is an integer solution to the Pythagorean theorem $a^2+b^2=c^2$. The first Pythagorean triple is (3,4,5). Find and put in a tuple all unique Pythagorean triples for the positive integers a, b and c less than 100."
   ]
  },
  {
   "cell_type": "code",
   "execution_count": 10,
   "metadata": {},
   "outputs": [
    {
     "data": {
      "text/plain": [
       "[(3, 4, 5),\n",
       " (5, 12, 13),\n",
       " (6, 8, 10),\n",
       " (7, 24, 25),\n",
       " (8, 15, 17),\n",
       " (9, 12, 15),\n",
       " (9, 40, 41),\n",
       " (10, 24, 26),\n",
       " (11, 60, 61),\n",
       " (12, 16, 20),\n",
       " (12, 35, 37),\n",
       " (13, 84, 85),\n",
       " (14, 48, 50),\n",
       " (15, 20, 25),\n",
       " (15, 36, 39),\n",
       " (16, 30, 34),\n",
       " (16, 63, 65),\n",
       " (18, 24, 30),\n",
       " (18, 80, 82),\n",
       " (20, 21, 29),\n",
       " (20, 48, 52),\n",
       " (21, 28, 35),\n",
       " (21, 72, 75),\n",
       " (24, 32, 40),\n",
       " (24, 45, 51),\n",
       " (24, 70, 74),\n",
       " (25, 60, 65),\n",
       " (27, 36, 45),\n",
       " (28, 45, 53),\n",
       " (30, 40, 50),\n",
       " (30, 72, 78),\n",
       " (32, 60, 68),\n",
       " (33, 44, 55),\n",
       " (33, 56, 65),\n",
       " (35, 84, 91),\n",
       " (36, 48, 60),\n",
       " (36, 77, 85),\n",
       " (39, 52, 65),\n",
       " (39, 80, 89),\n",
       " (40, 42, 58),\n",
       " (40, 75, 85),\n",
       " (42, 56, 70),\n",
       " (45, 60, 75),\n",
       " (48, 55, 73),\n",
       " (48, 64, 80),\n",
       " (51, 68, 85),\n",
       " (54, 72, 90),\n",
       " (57, 76, 95),\n",
       " (60, 63, 87),\n",
       " (65, 72, 97)]"
      ]
     },
     "execution_count": 10,
     "metadata": {},
     "output_type": "execute_result"
    }
   ],
   "source": [
    "import numpy as np\n",
    "\n",
    "#! IMPORTANTE\n",
    "\n",
    "# def PythComb(n):\n",
    "\n",
    "#    PythList = []\n",
    "\n",
    "#    counts = 0\n",
    "#    for a in range(1, n):\n",
    "#       for b in range(a, n):\n",
    "#          for c in range(1, n):\n",
    "#                if (a**2 + b**2 == c**2):\n",
    "#                   counts += 1\n",
    "#                   PythList.append((a, b, c))\n",
    "\n",
    "#    return PythList\n",
    "\n",
    "\n",
    "def BetterPythComb(n):\n",
    "   \n",
    "   PythList = [(a, b, c) for a in range(1, n) for b in range(a, n) for c in range(1, n) if a**2 + b**2 == c**2]\n",
    "   \n",
    "   return PythList\n",
    "\n",
    "BetterPythComb(100)\n"
   ]
  },
  {
   "cell_type": "markdown",
   "metadata": {},
   "source": [
    "9\\. Normalization\n",
    "\n",
    "Write a function that takes a tuple of numbers and returns it with the entries normalized to one"
   ]
  },
  {
   "cell_type": "code",
   "execution_count": 50,
   "metadata": {},
   "outputs": [
    {
     "name": "stdout",
     "output_type": "stream",
     "text": [
      "(0.16666666666666666, 0.3333333333333333, 0.5)\n"
     ]
    }
   ],
   "source": [
    "x = (1, 2, 3)\n",
    "\n",
    "def Normalization(x):\n",
    "   return tuple(y/sum(x) for y in x)\n",
    "\n",
    "\n",
    "Norm = Normalization(x)\n",
    "\n",
    "print(Norm)"
   ]
  },
  {
   "cell_type": "code",
   "execution_count": null,
   "metadata": {},
   "outputs": [],
   "source": []
  }
 ],
 "metadata": {
  "kernelspec": {
   "display_name": "base",
   "language": "python",
   "name": "python3"
  },
  "language_info": {
   "codemirror_mode": {
    "name": "ipython",
    "version": 3
   },
   "file_extension": ".py",
   "mimetype": "text/x-python",
   "name": "python",
   "nbconvert_exporter": "python",
   "pygments_lexer": "ipython3",
   "version": "3.12.2"
  }
 },
 "nbformat": 4,
 "nbformat_minor": 2
}
