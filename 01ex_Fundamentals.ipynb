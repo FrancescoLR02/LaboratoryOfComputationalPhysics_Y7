{
 "cells": [
  {
   "cell_type": "markdown",
   "metadata": {},
   "source": [
    "0\\. Implement a function (whatever you want) and save it to a file (e.g. `function.py`). Import that file and use that function in this notebook.\n"
   ]
  },
  {
   "cell_type": "markdown",
   "metadata": {},
   "source": [
    "1\\. Write the following as a list comprehension"
   ]
  },
  {
   "cell_type": "code",
   "execution_count": 4,
   "metadata": {},
   "outputs": [
    {
     "name": "stdout",
     "output_type": "stream",
     "text": [
      "[(0, 0), (0, 1), (0, 2), (0, 3), (1, 0), (1, 1), (1, 2), (1, 3), (2, 0), (2, 1), (2, 2), (2, 3)]\n",
      "[0, 4, 16]\n",
      "[(0, 0), (0, 1), (0, 2), (0, 3), (1, 0), (1, 1), (1, 2), (1, 3), (2, 0), (2, 1), (2, 2), (2, 3)]\n",
      "[0, 4, 16]\n"
     ]
    }
   ],
   "source": [
    "# 1\n",
    "ans = []\n",
    "for i in range(3):\n",
    "    for j in range(4):\n",
    "        ans.append((i, j))\n",
    "print(ans)\n",
    "\n",
    "# 2\n",
    "ans = map(lambda x: x*x, filter(lambda x: x%2 == 0, range(5)))\n",
    "print (list(ans))\n",
    "\n",
    "#------------------\n",
    "#1\n",
    "First = [(i, j) for i in range(3) for j in range(4)]\n",
    "print(First)\n",
    "\n",
    "Second = [x**2 for x in range(5) if x%2 == 0]\n",
    "print(Second)\n"
   ]
  },
  {
   "cell_type": "markdown",
   "metadata": {},
   "source": [
    "2\\. Convert the following function into a pure function with no global variables or side effects"
   ]
  },
  {
   "cell_type": "code",
   "execution_count": null,
   "metadata": {},
   "outputs": [
    {
     "name": "stdout",
     "output_type": "stream",
     "text": [
      "[1, 2, 3, 0, 1, 2, 3, 4]\n",
      "[1, 2, 3]\n"
     ]
    }
   ],
   "source": [
    "def f(alist, x):\n",
    "    alist = alist.copy()\n",
    "    for i in range(x):\n",
    "         alist.append(i)\n",
    "    return alist\n",
    "\n",
    "alist = [1,2,3]\n",
    "ans = f(alist, 5)\n",
    "print (ans)\n",
    "print (alist) "
   ]
  },
  {
   "cell_type": "markdown",
   "metadata": {},
   "source": [
    "3\\. Write a `decorator` hello that makes every wrapped function print “Hello!”, i.e. something like:\n",
    "\n",
    "```python\n",
    "@hello\n",
    "def square(x):\n",
    "    return x*x\n",
    "```\n",
    "\n"
   ]
  },
  {
   "cell_type": "code",
   "execution_count": 1,
   "metadata": {},
   "outputs": [
    {
     "name": "stdout",
     "output_type": "stream",
     "text": [
      "Hello\n"
     ]
    },
    {
     "data": {
      "text/plain": [
       "25"
      ]
     },
     "execution_count": 1,
     "metadata": {},
     "output_type": "execute_result"
    }
   ],
   "source": [
    "#! IMPORTANTE \n",
    "\n",
    "def Hello(func):\n",
    "   def Wrapped(x):\n",
    "      print(\"Hello\")\n",
    "      #! DEVI FARE IL RETURN \n",
    "      return func(x)\n",
    "\n",
    "   return Wrapped\n",
    "\n",
    "@Hello\n",
    "def Square(x):\n",
    "   return x**2\n",
    "\n",
    "Square(5)"
   ]
  },
  {
   "cell_type": "markdown",
   "metadata": {},
   "source": [
    "4\\. Write the factorial function so that it a) does and b) does not use recursion."
   ]
  },
  {
   "cell_type": "code",
   "execution_count": 10,
   "metadata": {},
   "outputs": [
    {
     "name": "stdout",
     "output_type": "stream",
     "text": [
      "1.95 μs ± 2.83 ns per loop (mean ± std. dev. of 7 runs, 1,000,000 loops each)\n",
      "1.19 μs ± 102 ns per loop (mean ± std. dev. of 7 runs, 1,000,000 loops each)\n"
     ]
    }
   ],
   "source": [
    "def RecursionFactorial(n):\n",
    "\n",
    "   if n == 0 or n == 1:\n",
    "      return 1\n",
    "\n",
    "   else:\n",
    "      return n*RecursionFactorial(n-1)\n",
    "\n",
    "RecursionFactorial(40)\n",
    "\n",
    "def WORecutrionFactorial(n):\n",
    "   prod = 1\n",
    "   for i in range(1, n+1):\n",
    "      prod *= i\n",
    "   return prod\n",
    "\n",
    "WORecutrionFactorial(40)\n"
   ]
  },
  {
   "cell_type": "markdown",
   "metadata": {},
   "source": [
    "5\\. Use HOFs (zip in particular) to compute the weight of a circle, a disk and a sphere, assuming different radii and different densities:\n",
    "\n",
    "```python\n",
    "densities = {\"Al\":[0.5,1,2],\"Fe\":[3,4,5],\"Pb\": [15,20,30]}\n",
    "radii = [1,2,3]\n",
    "```\n",
    "\n",
    "where the entries of the dictionary's values are the linear, superficial and volumetric densities of the materials respectively.\n",
    "\n",
    "In particular define a list of three lambda functions using a comprehension that computes the circumference, the area and the volume for a given radius.\n"
   ]
  },
  {
   "cell_type": "code",
   "execution_count": 35,
   "metadata": {},
   "outputs": [
    {
     "name": "stdout",
     "output_type": "stream",
     "text": [
      "Al Linear weight: 3.141592653589793\n",
      "Fe Linear weight: 37.69911184307752\n",
      "Pb Linear weight: 282.7433388230814\n",
      "Al Superificial weight: 3.141592653589793\n",
      "Fe Superificial weight: 100.53096491487338\n",
      "Pb Superificial weight: 3769.9111843077517\n",
      "Al Volumetric weight: 18.84955592153876\n",
      "Fe Volumetric weight: 589.0486225480862\n",
      "Pb Volumetric weight: 190851.75370557993\n"
     ]
    }
   ],
   "source": [
    "from math import pi\n",
    "\n",
    "densities = {'Al': [0.5, 1, 2], 'Fe': [3, 4, 5], 'Pb': [15, 20, 30]}\n",
    "radii = [1, 2, 3]\n",
    "string = ['Linear', 'Superificial', 'Volumetric']\n",
    "\n",
    "functions = [lambda d, r: 2*pi*d*r, lambda d, r: pi*r**2*d, lambda d, r: 3/4*d*pi*r**3]\n",
    "\n",
    "\n",
    "for i, function in enumerate(functions):\n",
    "   for r, element, type in zip(radii, densities, string):\n",
    "      print(element, string[i] , \"weight:\", function(r, densities[element][i]))\n"
   ]
  },
  {
   "cell_type": "markdown",
   "metadata": {},
   "source": [
    "6\\. Edit the class defintion to add an instance attribute of is_hungry = True to the Dog class. Then add a method called eat() which changes the value of is_hungry to False when called. Figure out the best way to feed each dog and then output “My dogs are hungry.” if all are hungry or “My dogs are not hungry.” if all are not hungry. The final output should look like this:\n",
    "\n",
    "`I have 3 dogs. \n",
    "Tom is 6. \n",
    "Fletcher is 7. \n",
    "Larry is 9. \n",
    "And they're all mammals, of course. \n",
    "My dogs are not hungry.\n",
    "`"
   ]
  },
  {
   "cell_type": "code",
   "execution_count": 40,
   "metadata": {},
   "outputs": [
    {
     "name": "stdout",
     "output_type": "stream",
     "text": [
      "Tom is hungry!\n",
      "Tom has eaten \n",
      "\n",
      "Larry has already eaten \n",
      "\n",
      "Fletcher is hungry!\n",
      "Fletcher has eaten \n",
      "\n",
      "I have 3 dogs. Larry is 9, Fletcher is 7 and Tom is 6. They are all mammal of course. They have all eaten\n"
     ]
    }
   ],
   "source": [
    "class Dog:\n",
    "\n",
    "   species = 'mammal'\n",
    "\n",
    "   def __init__(self, name, age, is_hungry = True):\n",
    "      self.name = name\n",
    "      self.age = age \n",
    "      self.is_hungry = is_hungry\n",
    "\n",
    "   def description(self):\n",
    "      return \"{} is {} years old\".format(self.name, self.age)\n",
    "   \n",
    "   def speak(self, sound):\n",
    "      return \"{} says {}\".format(self.name, sound)\n",
    "   \n",
    "   def eat(self):\n",
    "      self.is_hungry = False\n",
    "   \n",
    "class RussellTerrier(Dog):\n",
    "   def run(self, speed):\n",
    "      return \"{} runs {}\".format(self.name, speed)\n",
    "   \n",
    "class Bulldog(Dog):\n",
    "   def run(self, speed):\n",
    "      return \"{} runs {}\".format(self.name, speed)\n",
    "   \n",
    "\n",
    "\n",
    "\n",
    "dog_list = [\n",
    "    RussellTerrier(\"Tom\", 6, True),\n",
    "    RussellTerrier(\"Larry\", 9, False),\n",
    "    Bulldog(\"Fletcher\", 7, True),\n",
    "]\n",
    "\n",
    "Dogs = {dog.name: dog for dog in dog_list}\n",
    "\n",
    "\n",
    "for dog in Dogs.values():\n",
    "    if (dog.is_hungry):\n",
    "        print(\"{} is hungry!\".format(dog.name))\n",
    "        dog.eat()\n",
    "        print(\"{} has eaten \\n\".format(dog.name))\n",
    "    else:\n",
    "        print(\"{} has already eaten \\n\".format(dog.name))\n",
    "\n",
    "print(\"I have {} dogs. {} is {}, {} is {} and {} is {}. They are all {} of course. They have all eaten\".format(\n",
    "    len(dog_list), Dogs['Larry'].name, Dogs['Larry'].age, Dogs['Fletcher'].name, Dogs['Fletcher'].age, Dogs['Tom'].name, Dogs['Tom'].age, \n",
    "    Dog.species\n",
    "))\n"
   ]
  },
  {
   "cell_type": "code",
   "execution_count": null,
   "metadata": {},
   "outputs": [],
   "source": []
  }
 ],
 "metadata": {
  "kernelspec": {
   "display_name": "base",
   "language": "python",
   "name": "python3"
  },
  "language_info": {
   "codemirror_mode": {
    "name": "ipython",
    "version": 3
   },
   "file_extension": ".py",
   "mimetype": "text/x-python",
   "name": "python",
   "nbconvert_exporter": "python",
   "pygments_lexer": "ipython3",
   "version": "3.12.2"
  }
 },
 "nbformat": 4,
 "nbformat_minor": 2
}
