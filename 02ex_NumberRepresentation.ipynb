{
 "cells": [
  {
   "cell_type": "markdown",
   "metadata": {},
   "source": [
    "1\\. Write a function that converts number representation, bin<->dec<->hex. (Clearly using the corresponding python built-in functions is not fair..)"
   ]
  },
  {
   "cell_type": "code",
   "execution_count": 26,
   "metadata": {},
   "outputs": [
    {
     "ename": "TypeError",
     "evalue": "'>' not supported between instances of 'str' and 'int'",
     "output_type": "error",
     "traceback": [
      "\u001b[0;31m---------------------------------------------------------------------------\u001b[0m",
      "\u001b[0;31mTypeError\u001b[0m                                 Traceback (most recent call last)",
      "Cell \u001b[0;32mIn[26], line 99\u001b[0m\n\u001b[1;32m     93\u001b[0m       \u001b[38;5;28mprint\u001b[39m(number, \u001b[38;5;124m\"\u001b[39m\u001b[38;5;124min decimal base is: \u001b[39m\u001b[38;5;124m\"\u001b[39m, BinToDec(number), \u001b[38;5;124m\"\u001b[39m\u001b[38;5;124mand in hex base is: \u001b[39m\u001b[38;5;124m\"\u001b[39m, HexToDec(DecToBin(number)))\n\u001b[1;32m     95\u001b[0m    \u001b[38;5;66;03m#elif base == 10:\u001b[39;00m\n\u001b[1;32m     96\u001b[0m       \u001b[38;5;66;03m#print(number, \"in binary base is: \", DecToBin(number), \"and in hex base is: \", HexToDec())\u001b[39;00m\n\u001b[0;32m---> 99\u001b[0m Converts(\u001b[38;5;124m'\u001b[39m\u001b[38;5;124m0000\u001b[39m\u001b[38;5;124m'\u001b[39m, base \u001b[38;5;241m=\u001b[39m \u001b[38;5;241m2\u001b[39m)\n",
      "Cell \u001b[0;32mIn[26], line 93\u001b[0m, in \u001b[0;36mConverts\u001b[0;34m(number, base)\u001b[0m\n\u001b[1;32m     90\u001b[0m \u001b[38;5;28;01mdef\u001b[39;00m \u001b[38;5;21mConverts\u001b[39m(number, base):\n\u001b[1;32m     92\u001b[0m    \u001b[38;5;28;01mif\u001b[39;00m base \u001b[38;5;241m==\u001b[39m \u001b[38;5;241m2\u001b[39m:\n\u001b[0;32m---> 93\u001b[0m       \u001b[38;5;28mprint\u001b[39m(number, \u001b[38;5;124m\"\u001b[39m\u001b[38;5;124min decimal base is: \u001b[39m\u001b[38;5;124m\"\u001b[39m, BinToDec(number), \u001b[38;5;124m\"\u001b[39m\u001b[38;5;124mand in hex base is: \u001b[39m\u001b[38;5;124m\"\u001b[39m, HexToDec(DecToBin(number)))\n",
      "Cell \u001b[0;32mIn[26], line 68\u001b[0m, in \u001b[0;36mDecToBin\u001b[0;34m(number, base)\u001b[0m\n\u001b[1;32m     65\u001b[0m     \u001b[38;5;28;01mreturn\u001b[39;00m \u001b[38;5;124m\"\u001b[39m\u001b[38;5;124m0\u001b[39m\u001b[38;5;124m\"\u001b[39m\n\u001b[1;32m     67\u001b[0m BinaryString \u001b[38;5;241m=\u001b[39m \u001b[38;5;124m\"\u001b[39m\u001b[38;5;124m\"\u001b[39m\n\u001b[0;32m---> 68\u001b[0m \u001b[38;5;28;01mwhile\u001b[39;00m number \u001b[38;5;241m>\u001b[39m \u001b[38;5;241m0\u001b[39m:\n\u001b[1;32m     69\u001b[0m     remainder \u001b[38;5;241m=\u001b[39m number \u001b[38;5;241m%\u001b[39m \u001b[38;5;241m2\u001b[39m\n\u001b[1;32m     70\u001b[0m     BinaryString \u001b[38;5;241m=\u001b[39m \u001b[38;5;28mstr\u001b[39m(remainder) \u001b[38;5;241m+\u001b[39m BinaryString\n",
      "\u001b[0;31mTypeError\u001b[0m: '>' not supported between instances of 'str' and 'int'"
     ]
    }
   ],
   "source": [
    "HexBinDict = {\n",
    "   '0': '0000',\n",
    "   '1': '0001',\n",
    "   '2': '0010',\n",
    "   '3': '0011',\n",
    "   '4': '0100',\n",
    "   '5': '0101',\n",
    "   '6': '0110',\n",
    "   '7': '0111',\n",
    "   '8': '1000',\n",
    "   '9': '1001',\n",
    "   'A': '1010',\n",
    "   'B': '1011',\n",
    "   'C': '1100',\n",
    "   'D': '1101',\n",
    "   'E': '1110',\n",
    "   'F': '1111'\n",
    "}\n",
    "\n",
    "HexDecimalDict = {\n",
    "   '0': 0,\n",
    "   '1': 1,\n",
    "   '2': 2,\n",
    "   '3': 3,\n",
    "   '4': 4,\n",
    "   '5': 5,\n",
    "   '6': 6,\n",
    "   '7': 7,\n",
    "   '8': 8,\n",
    "   '9': 9,\n",
    "   'A': 10,\n",
    "   'B': 11,\n",
    "   'C': 12,\n",
    "   'D': 13,\n",
    "   'E': 14,\n",
    "   'F': 15\n",
    "}\n",
    "\n",
    "#Or more conveniently for the conversion of hexadecimal to decimal:\n",
    "HexDecimalDict = {hex(i)[-1].upper(): i for i in range(0, 16)}\n",
    "\n",
    "\n",
    "\n",
    "def BinToDec(number, base = 2):\n",
    "\n",
    "   decimal = 0\n",
    "   for i, j in enumerate(reversed(number)):\n",
    "      decimal += int(j)*2**i\n",
    "\n",
    "   return decimal  \n",
    "\n",
    "\n",
    "def HexToBin(number, base = 16):\n",
    "\n",
    "\n",
    "   BinaryString= \"\"\n",
    "   for i in number:\n",
    "      BinaryString += HexBinDict[i] + \" \"\n",
    "\n",
    "   return BinaryString\n",
    "\n",
    "\n",
    "def DecToBin(number, base = 10):\n",
    "    if number == 0:\n",
    "        return \"0\"\n",
    "    \n",
    "    BinaryString = \"\"\n",
    "    while number > 0:\n",
    "        remainder = number % 2\n",
    "        BinaryString = str(remainder) + BinaryString\n",
    "        number = number // 2\n",
    "    \n",
    "    return BinaryString\n",
    "\n",
    "def HexToDec(number, base = 16):\n",
    "\n",
    "\n",
    "   number = str(number)\n",
    "   decimal = 0\n",
    "   for i in range(1, len(number)+1):\n",
    "\n",
    "      integer = HexDecimalDict[number[-i]]\n",
    "      decimal += integer*16**(i-1)\n",
    "\n",
    "   return decimal\n",
    "\n",
    "\n",
    "\n",
    "#Base is the rappresentation of number\n",
    "def Converts(number, base):\n",
    "\n",
    "   if base == 2:\n",
    "      print(number, \"in decimal base is: \", BinToDec(number), \"and in hex base is: \", HexToDec(DecToBin(number)))\n",
    "\n",
    "   #elif base == 10:\n",
    "      #print(number, \"in binary base is: \", DecToBin(number), \"and in hex base is: \", HexToDec())\n",
    "\n",
    "\n",
    "Converts('0000', base = 2)\n",
    "\n",
    "\n",
    "\n",
    "\n",
    "\n"
   ]
  },
  {
   "cell_type": "markdown",
   "metadata": {},
   "source": [
    "2\\. Write a function that converts a 32 bit word into a single precision floating point (i.e. interprets the various bits as sign, mantissa and exponent)"
   ]
  },
  {
   "cell_type": "markdown",
   "metadata": {},
   "source": [
    "3\\. Write a program to determine the underflow and overflow limits (within a factor of 2) for python on your computer. \n",
    "\n",
    "**Tips**: define two variables inizialized to 1 and halve/double them enough time to exceed the under/over-flow limits  "
   ]
  },
  {
   "cell_type": "markdown",
   "metadata": {},
   "source": [
    "4\\. Write a program to determine the machine precision\n",
    "\n",
    "**Tips**: define a new variable by adding a smaller and smaller value (proceeding similarly to prob. 2) to an original variable and check the point where the two are the same "
   ]
  },
  {
   "cell_type": "markdown",
   "metadata": {},
   "source": [
    "5\\. Write a function that takes in input three parameters $a$, $b$ and $c$ and prints out the two solutions to the quadratic equation $ax^2+bx+c=0$ using the standard formula:\n",
    "$$\n",
    "x=\\frac{-b\\pm\\sqrt{b^2-4ac}}{2a}\n",
    "$$\n",
    "\n",
    "(a) use the program to compute the solution for $a=0.001$, $b=1000$ and $c=0.001$\n",
    "\n",
    "(b) re-express the standard solution formula by multiplying top and bottom by $-b\\mp\\sqrt{b^2-4ac}$ and again find the solution for $a=0.001$, $b=1000$ and $c=0.001$. How does it compare with what previously obtained? Why?\n",
    "\n",
    "(c) write a function that compute the roots of a quadratic equation accurately in all cases"
   ]
  },
  {
   "cell_type": "code",
   "execution_count": 19,
   "metadata": {},
   "outputs": [
    {
     "name": "stdout",
     "output_type": "stream",
     "text": [
      "498999.999999 -500999.999999\n",
      "0.0 0.0\n"
     ]
    }
   ],
   "source": [
    "from math import sqrt\n",
    "\n",
    "def QuadEqua(a, b, c):\n",
    "   return -b + sqrt(b**2 - 4*a*c)/(2*a), -b - sqrt(b**2 - 4*a*c)/(2*a)\n",
    "\n",
    "def ModQuadEqua(a, b, c):\n",
    "   return (-b + sqrt(b**2 - 4*a*c)/(2*a)) * QuadEqua(a, b, c)[1]*2*a/(QuadEqua(a, b, c)[1]*2*a), (-b - sqrt(b**2 - 4*a*c)/(2*a))* QuadEqua(a, b, c)[0]*2*a/(QuadEqua(a, b, c)[0]*2*a)\n",
    "\n",
    "\n",
    "\n",
    "Sol1, Sol2 = QuadEqua(0.001, 1000, 0.001)\n",
    "ModSol1, ModSol2 = ModQuadEqua(0.001, 1000, 0.001)\n",
    "print(Sol1, Sol2)\n",
    "print(ModSol1 - Sol1, ModSol2 - Sol2)"
   ]
  },
  {
   "cell_type": "markdown",
   "metadata": {},
   "source": [
    "6\\. Write a program that implements the function $f(x)=x(x−1)$\n",
    "\n",
    "(a) Calculate the derivative of the function at the point $x = 1$ using the derivative definition:\n",
    "\n",
    "$$\n",
    "\\frac{{\\rm d}f}{{\\rm d}x} = \\lim_{\\delta\\to0} \\frac{f(x+\\delta)-f(x)}{\\delta}\n",
    "$$\n",
    "\n",
    "with $\\delta = 10^{−2}$. Calculate the true value of the same derivative analytically and compare with the answer your program gives. The two will not agree perfectly. Why not?\n",
    "\n",
    "(b) Repeat the calculation for $\\delta = 10^{−4}, 10^{−6}, 10^{−8}, 10^{−10}, 10^{−12}$ and $10^{−14}$. How does the accuracy scales with $\\delta$?"
   ]
  },
  {
   "cell_type": "code",
   "execution_count": 20,
   "metadata": {},
   "outputs": [
    {
     "name": "stdout",
     "output_type": "stream",
     "text": [
      "-0.9900000000000001\n",
      "-0.9999\n",
      "-0.999999\n",
      "-0.99999999\n",
      "-0.9999999999\n",
      "-0.9999999999989999\n",
      "-0.99999999999999\n"
     ]
    }
   ],
   "source": [
    "def f(x):\n",
    "   return x*(x-1)\n",
    "\n",
    "def Derivative(x, delta):\n",
    "   return (f(x + delta) - f(x))/delta\n",
    "\n",
    "deltas = [1e-2, 1e-4, 1e-6, 1e-8, 1e-10, 1e-12, 1e-14]\n",
    "\n",
    "for delta in deltas:\n",
    "   print(Derivative(0, delta))"
   ]
  },
  {
   "cell_type": "markdown",
   "metadata": {},
   "source": [
    "7\\. Consider the integral of the semicircle of radius 1:\n",
    "$$\n",
    "I=\\int_{-1}^{1} \\sqrt(1-x^2) {\\rm d}x\n",
    "$$\n",
    "which it's known to be $I=\\frac{\\pi}{2}=1.57079632679...$.\n",
    "Alternatively we can use the Riemann definition of the integral:\n",
    "$$\n",
    "I=\\lim_{N\\to\\infty} \\sum_{k=1}^{N} h y_k \n",
    "$$\n",
    "\n",
    "with $h=2/N$ the width of each of the $N$ slices the domain is divided into and where\n",
    "$y_k$ is the value of the function at the $k-$th slice.\n",
    "\n",
    "(a) Write a programe to compute the integral with $N=100$. How does the result compares to the true value?\n",
    "\n",
    "(b) How much can $N$ be increased if the computation needs to be run in less than a second? What is the gain in running it for 1 minute? \n"
   ]
  },
  {
   "cell_type": "code",
   "execution_count": 46,
   "metadata": {},
   "outputs": [
    {
     "name": "stdout",
     "output_type": "stream",
     "text": [
      "\n",
      "\n",
      "Calculated Integral: 1.5707958471454435\n",
      "True Value: 1.5707963267948966\n",
      "Difference between true value:  4.796494530445727e-07\n",
      "Time taken: 1.12 seconds for N=3276800\n",
      "Calculated Integral: 1.5707963193046903\n",
      "True Value: 1.5707963267948966\n",
      "Difference between true value:  7.49020623302954e-09\n",
      "Time taken: 66.49 seconds for N=209715200\n"
     ]
    }
   ],
   "source": [
    "from math import sqrt\n",
    "import numpy as np\n",
    "import tqdm\n",
    "import time\n",
    "\n",
    "TrueValue = np.pi/2\n",
    "\n",
    "\n",
    "\n",
    "def f(x):\n",
    "   return sqrt(1-x**2)\n",
    "\n",
    "\n",
    "\n",
    "def I(h, N):\n",
    "\n",
    "   x = np.linspace(-1, 1, N)\n",
    "\n",
    "   Integral = 0\n",
    "   for i in x:\n",
    "      Integral += f(i)*h\n",
    "\n",
    "   return Integral\n",
    "\n",
    "\n",
    "\n",
    "def KeepRunningUntil(Time):\n",
    "\n",
    "   N = 100\n",
    "   h = 2/N\n",
    "\n",
    "   startTime = time.time()\n",
    "   while True:\n",
    "\n",
    "      Integral = I(h, N)\n",
    "\n",
    "      TimeElapsed = time.time() - startTime\n",
    "      if TimeElapsed > Time:\n",
    "         break\n",
    "\n",
    "      N *= 2\n",
    "      h = 2/N\n",
    "\n",
    "   print(f\"Calculated Integral: {Integral}\")\n",
    "   print(f\"True Value: {TrueValue}\")\n",
    "   print(\"Difference between true value: \", np.abs(Integral - TrueValue))\n",
    "   print(f\"Time taken: {TimeElapsed:.2f} seconds for N={N}\")\n",
    "\n",
    "\n",
    "\n",
    "N = 100\n",
    "h = 2/N\n",
    "\n",
    "print(\"\\n\")\n",
    "KeepRunningUntil(1)\n",
    "\n",
    "KeepRunningUntil(60)"
   ]
  },
  {
   "cell_type": "code",
   "execution_count": null,
   "metadata": {},
   "outputs": [],
   "source": []
  }
 ],
 "metadata": {
  "kernelspec": {
   "display_name": "base",
   "language": "python",
   "name": "python3"
  },
  "language_info": {
   "codemirror_mode": {
    "name": "ipython",
    "version": 3
   },
   "file_extension": ".py",
   "mimetype": "text/x-python",
   "name": "python",
   "nbconvert_exporter": "python",
   "pygments_lexer": "ipython3",
   "version": "3.12.2"
  }
 },
 "nbformat": 4,
 "nbformat_minor": 2
}
