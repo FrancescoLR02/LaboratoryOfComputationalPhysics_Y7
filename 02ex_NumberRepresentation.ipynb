{
 "cells": [
  {
   "cell_type": "markdown",
   "metadata": {},
   "source": [
    "1\\. Write a function that converts number representation, bin<->dec<->hex. (Clearly using the corresponding python built-in functions is not fair..)"
   ]
  },
  {
   "cell_type": "code",
   "execution_count": 81,
   "metadata": {},
   "outputs": [
    {
     "name": "stdout",
     "output_type": "stream",
     "text": [
      "A in binary base is: 1010 and in decimal base is: 10\n"
     ]
    }
   ],
   "source": [
    "#! importante\n",
    "\n",
    "HexBinDict = {\n",
    "   '0': '0000',\n",
    "   '1': '0001',\n",
    "   '2': '0010',\n",
    "   '3': '0011',\n",
    "   '4': '0100',\n",
    "   '5': '0101',\n",
    "   '6': '0110',\n",
    "   '7': '0111',\n",
    "   '8': '1000',\n",
    "   '9': '1001',\n",
    "   'A': '1010',\n",
    "   'B': '1011',\n",
    "   'C': '1100',\n",
    "   'D': '1101',\n",
    "   'E': '1110',\n",
    "   'F': '1111'\n",
    "}\n",
    "\n",
    "\n",
    "def BinaryToDecimal(number, base = 2):\n",
    "\n",
    "   decimal = 0\n",
    "\n",
    "   for i, j in enumerate(reversed(number)):\n",
    "      decimal += int(j)*2**i\n",
    "\n",
    "   return decimal  \n",
    "\n",
    "\n",
    "def HexadecimalToBinary(number, base = 16):\n",
    "\n",
    "\n",
    "   BinaryString= \"\"\n",
    "   for i in number:\n",
    "      BinaryString += HexBinDict[i]\n",
    "\n",
    "   return BinaryString\n",
    "\n",
    "def DecimalToBinary(number, base = 10):\n",
    "    \n",
    "    number = int(number)\n",
    "    if number == 0:\n",
    "        return \"0\"\n",
    "    \n",
    "    BinaryString = \"\"\n",
    "    while number > 0:\n",
    "        remainder = number % 2\n",
    "        BinaryString = str(remainder) + BinaryString\n",
    "        number = number // 2\n",
    "    \n",
    "    return BinaryString\n",
    "\n",
    "\n",
    "def BinaryToHexadecimal(number, base = 2):\n",
    "\n",
    "   HexNumbers = []\n",
    "\n",
    "   if (len(number) % 4 == 0):\n",
    "      for i in range(len(number) // 4):\n",
    "         HexNumber = [key for key, values in HexBinDict.items() if values  == number[4*i:4*(i+1)]]\n",
    "         HexNumbers.append(HexNumber[0])\n",
    "\n",
    "   return ''.join(HexNumbers)\n",
    "\n",
    "\n",
    "\n",
    "#Base is the rappresentation of number\n",
    "def Converts(number, base):\n",
    "\n",
    "   if base == 2:\n",
    "      print(number, \"in decimal base is: \", BinaryToDecimal(number), \"and in hex base is: \", BinaryToHexadecimal(number))\n",
    "\n",
    "   elif base == 10:\n",
    "      print(number, \"in binary base is: \", DecimalToBinary(number), \"and in hex base is: \", BinaryToHexadecimal(DecimalToBinary(number)))\n",
    "\n",
    "   elif base == 16:\n",
    "      print(f\"{number} in binary base is: {HexadecimalToBinary(number)} and in decimal base is: {BinaryToDecimal(HexadecimalToBinary(number))}\")\n",
    "\n",
    "\n",
    "Converts('A', 16)"
   ]
  },
  {
   "cell_type": "markdown",
   "metadata": {},
   "source": [
    "2\\. Write a function that converts a 32 bit word into a single precision floating point (i.e. interprets the various bits as sign, mantissa and exponent)"
   ]
  },
  {
   "cell_type": "code",
   "execution_count": 51,
   "metadata": {},
   "outputs": [
    {
     "name": "stdout",
     "output_type": "stream",
     "text": [
      "The original number in binary (IEEE754) is 01000010100011000000000000000000\n",
      "The number represented is: 70.0\n"
     ]
    }
   ],
   "source": [
    "import numpy as np\n",
    "\n",
    "# Generate a random 32-bit binary word\n",
    "word = \"\".join(str(np.random.randint(0, 2)) for i in range(32))\n",
    "\n",
    "def WordToNumber(word):\n",
    "    # Extract components from the binary string\n",
    "    sign = word[0]\n",
    "    exp = word[1:9]\n",
    "    mant = word[9:32]\n",
    "\n",
    "    exponent = int(exp, 2) - 127\n",
    "\n",
    "    # Calculate mantissa (add implicit 1 for normalized numbers)\n",
    "    if int(exp, 2) == 0:  \n",
    "        exponent = -126\n",
    "        mantissa = sum(int(mant[i]) * 2**(-i-1) for i in range(len(mant)))\n",
    "    else:  \n",
    "        mantissa = 1 + sum(int(mant[i]) * 2**(-i-1) for i in range(len(mant)))\n",
    "\n",
    "    value = (-1)**int(sign) * mantissa * 2**exponent\n",
    "\n",
    "    # Print results\n",
    "    print(f\"The original number in binary (IEEE754) is {word}\")\n",
    "    print(f\"The number represented is: {value}\")\n",
    "\n",
    "# Call the function\n",
    "WordToNumber('01000010100011000000000000000000')"
   ]
  },
  {
   "cell_type": "markdown",
   "metadata": {},
   "source": [
    "3\\. Write a program to determine the underflow and overflow limits (within a factor of 2) for python on your computer. \n",
    "\n",
    "**Tips**: define two variables inizialized to 1 and halve/double them enough time to exceed the under/over-flow limits  "
   ]
  },
  {
   "cell_type": "code",
   "execution_count": 87,
   "metadata": {},
   "outputs": [
    {
     "name": "stdout",
     "output_type": "stream",
     "text": [
      "The number of iteration before underflowing is 1075, corresponding to 5e-324\n"
     ]
    }
   ],
   "source": [
    "Overflow, Underflow = 1, 1\n",
    "\n",
    "Iter =0\n",
    "\n",
    "# while True: \n",
    "#    Overflow *= 2\n",
    "\n",
    "#    if Overflow < 0:\n",
    "#       break\n",
    "\n",
    "while True:\n",
    "   Underflow /= 2\n",
    "   Iter += 1\n",
    "\n",
    "   if Underflow == 0:\n",
    "      print(f\"The number of iteration before underflowing is {Iter}, corresponding to about {2**-(Iter - 1)}\")\n",
    "      break"
   ]
  },
  {
   "cell_type": "markdown",
   "metadata": {},
   "source": [
    "4\\. Write a program to determine the machine precision\n",
    "\n",
    "**Tips**: define a new variable by adding a smaller and smaller value (proceeding similarly to prob. 2) to an original variable and check the point where the two are the same "
   ]
  },
  {
   "cell_type": "markdown",
   "metadata": {},
   "source": [
    "5\\. Write a function that takes in input three parameters $a$, $b$ and $c$ and prints out the two solutions to the quadratic equation $ax^2+bx+c=0$ using the standard formula:\n",
    "$$\n",
    "x=\\frac{-b\\pm\\sqrt{b^2-4ac}}{2a}\n",
    "$$\n",
    "\n",
    "(a) use the program to compute the solution for $a=0.001$, $b=1000$ and $c=0.001$\n",
    "\n",
    "(b) re-express the standard solution formula by multiplying top and bottom by $-b\\mp\\sqrt{b^2-4ac}$ and again find the solution for $a=0.001$, $b=1000$ and $c=0.001$. How does it compare with what previously obtained? Why?\n",
    "\n",
    "(c) write a function that compute the roots of a quadratic equation accurately in all cases"
   ]
  },
  {
   "cell_type": "code",
   "execution_count": 19,
   "metadata": {},
   "outputs": [
    {
     "name": "stdout",
     "output_type": "stream",
     "text": [
      "498999.999999 -500999.999999\n",
      "0.0 0.0\n"
     ]
    }
   ],
   "source": [
    "from math import sqrt\n",
    "\n",
    "def QuadEqua(a, b, c):\n",
    "   return -b + sqrt(b**2 - 4*a*c)/(2*a), -b - sqrt(b**2 - 4*a*c)/(2*a)\n",
    "\n",
    "def ModQuadEqua(a, b, c):\n",
    "   return (-b + sqrt(b**2 - 4*a*c)/(2*a)) * QuadEqua(a, b, c)[1]*2*a/(QuadEqua(a, b, c)[1]*2*a), (-b - sqrt(b**2 - 4*a*c)/(2*a))* QuadEqua(a, b, c)[0]*2*a/(QuadEqua(a, b, c)[0]*2*a)\n",
    "\n",
    "\n",
    "\n",
    "Sol1, Sol2 = QuadEqua(0.001, 1000, 0.001)\n",
    "ModSol1, ModSol2 = ModQuadEqua(0.001, 1000, 0.001)\n",
    "print(Sol1, Sol2)\n",
    "print(ModSol1 - Sol1, ModSol2 - Sol2)"
   ]
  },
  {
   "cell_type": "markdown",
   "metadata": {},
   "source": [
    "6\\. Write a program that implements the function $f(x)=x(x−1)$\n",
    "\n",
    "(a) Calculate the derivative of the function at the point $x = 1$ using the derivative definition:\n",
    "\n",
    "$$\n",
    "\\frac{{\\rm d}f}{{\\rm d}x} = \\lim_{\\delta\\to0} \\frac{f(x+\\delta)-f(x)}{\\delta}\n",
    "$$\n",
    "\n",
    "with $\\delta = 10^{−2}$. Calculate the true value of the same derivative analytically and compare with the answer your program gives. The two will not agree perfectly. Why not?\n",
    "\n",
    "(b) Repeat the calculation for $\\delta = 10^{−4}, 10^{−6}, 10^{−8}, 10^{−10}, 10^{−12}$ and $10^{−14}$. How does the accuracy scales with $\\delta$?"
   ]
  },
  {
   "cell_type": "code",
   "execution_count": 20,
   "metadata": {},
   "outputs": [
    {
     "name": "stdout",
     "output_type": "stream",
     "text": [
      "-0.9900000000000001\n",
      "-0.9999\n",
      "-0.999999\n",
      "-0.99999999\n",
      "-0.9999999999\n",
      "-0.9999999999989999\n",
      "-0.99999999999999\n"
     ]
    }
   ],
   "source": [
    "def f(x):\n",
    "   return x*(x-1)\n",
    "\n",
    "def Derivative(x, delta):\n",
    "   return (f(x + delta) - f(x))/delta\n",
    "\n",
    "deltas = [1e-2, 1e-4, 1e-6, 1e-8, 1e-10, 1e-12, 1e-14]\n",
    "\n",
    "for delta in deltas:\n",
    "   print(Derivative(0, delta))"
   ]
  },
  {
   "cell_type": "markdown",
   "metadata": {},
   "source": [
    "7\\. Consider the integral of the semicircle of radius 1:\n",
    "$$\n",
    "I=\\int_{-1}^{1} \\sqrt(1-x^2) {\\rm d}x\n",
    "$$\n",
    "which it's known to be $I=\\frac{\\pi}{2}=1.57079632679...$.\n",
    "Alternatively we can use the Riemann definition of the integral:\n",
    "$$\n",
    "I=\\lim_{N\\to\\infty} \\sum_{k=1}^{N} h y_k \n",
    "$$\n",
    "\n",
    "with $h=2/N$ the width of each of the $N$ slices the domain is divided into and where\n",
    "$y_k$ is the value of the function at the $k-$th slice.\n",
    "\n",
    "(a) Write a programe to compute the integral with $N=100$. How does the result compares to the true value?\n",
    "\n",
    "(b) How much can $N$ be increased if the computation needs to be run in less than a second? What is the gain in running it for 1 minute? \n"
   ]
  },
  {
   "cell_type": "code",
   "execution_count": 46,
   "metadata": {},
   "outputs": [
    {
     "name": "stdout",
     "output_type": "stream",
     "text": [
      "\n",
      "\n",
      "Calculated Integral: 1.5707958471454435\n",
      "True Value: 1.5707963267948966\n",
      "Difference between true value:  4.796494530445727e-07\n",
      "Time taken: 1.12 seconds for N=3276800\n",
      "Calculated Integral: 1.5707963193046903\n",
      "True Value: 1.5707963267948966\n",
      "Difference between true value:  7.49020623302954e-09\n",
      "Time taken: 66.49 seconds for N=209715200\n"
     ]
    }
   ],
   "source": [
    "from math import sqrt\n",
    "import numpy as np\n",
    "import tqdm\n",
    "import time\n",
    "\n",
    "TrueValue = np.pi/2\n",
    "\n",
    "\n",
    "\n",
    "def f(x):\n",
    "   return sqrt(1-x**2)\n",
    "\n",
    "\n",
    "\n",
    "def I(h, N):\n",
    "\n",
    "   x = np.linspace(-1, 1, N)\n",
    "\n",
    "   Integral = 0\n",
    "   for i in x:\n",
    "      Integral += f(i)*h\n",
    "\n",
    "   return Integral\n",
    "\n",
    "\n",
    "\n",
    "def KeepRunningUntil(Time):\n",
    "\n",
    "   N = 100\n",
    "   h = 2/N\n",
    "\n",
    "   startTime = time.time()\n",
    "   while True:\n",
    "\n",
    "      Integral = I(h, N)\n",
    "\n",
    "      TimeElapsed = time.time() - startTime\n",
    "      if TimeElapsed > Time:\n",
    "         break\n",
    "\n",
    "      N *= 2\n",
    "      h = 2/N\n",
    "\n",
    "   print(f\"Calculated Integral: {Integral}\")\n",
    "   print(f\"True Value: {TrueValue}\")\n",
    "   print(\"Difference between true value: \", np.abs(Integral - TrueValue))\n",
    "   print(f\"Time taken: {TimeElapsed:.2f} seconds for N={N}\")\n",
    "\n",
    "\n",
    "\n",
    "N = 100\n",
    "h = 2/N\n",
    "\n",
    "print(\"\\n\")\n",
    "KeepRunningUntil(1)\n",
    "\n",
    "KeepRunningUntil(60)"
   ]
  },
  {
   "cell_type": "code",
   "execution_count": null,
   "metadata": {},
   "outputs": [],
   "source": []
  }
 ],
 "metadata": {
  "kernelspec": {
   "display_name": "base",
   "language": "python",
   "name": "python3"
  },
  "language_info": {
   "codemirror_mode": {
    "name": "ipython",
    "version": 3
   },
   "file_extension": ".py",
   "mimetype": "text/x-python",
   "name": "python",
   "nbconvert_exporter": "python",
   "pygments_lexer": "ipython3",
   "version": "3.12.2"
  }
 },
 "nbformat": 4,
 "nbformat_minor": 2
}
