{
 "cells": [
  {
   "cell_type": "markdown",
   "metadata": {},
   "source": [
    "1\\. Write a function that converts number representation, bin<->dec<->hex. (Clearly using the corresponding python built-in functions is not fair..)"
   ]
  },
  {
   "cell_type": "code",
   "execution_count": null,
   "metadata": {},
   "outputs": [],
   "source": [
    "def BinaryToDecimal(number, base = 2):\n",
    "\n",
    "   decimal = 0\n",
    "   for i, j in enumerate(reversed(number)):\n",
    "      decimal += int(j)*2**i\n",
    "\n",
    "   return decimal   \n",
    "\n",
    "def Converts(number, base):\n"
   ]
  },
  {
   "cell_type": "markdown",
   "metadata": {},
   "source": [
    "2\\. Write a function that converts a 32 bit word into a single precision floating point (i.e. interprets the various bits as sign, mantissa and exponent)"
   ]
  },
  {
   "cell_type": "markdown",
   "metadata": {},
   "source": [
    "3\\. Write a program to determine the underflow and overflow limits (within a factor of 2) for python on your computer. \n",
    "\n",
    "**Tips**: define two variables inizialized to 1 and halve/double them enough time to exceed the under/over-flow limits  "
   ]
  },
  {
   "cell_type": "markdown",
   "metadata": {},
   "source": [
    "4\\. Write a program to determine the machine precision\n",
    "\n",
    "**Tips**: define a new variable by adding a smaller and smaller value (proceeding similarly to prob. 2) to an original variable and check the point where the two are the same "
   ]
  },
  {
   "cell_type": "markdown",
   "metadata": {},
   "source": [
    "5\\. Write a function that takes in input three parameters $a$, $b$ and $c$ and prints out the two solutions to the quadratic equation $ax^2+bx+c=0$ using the standard formula:\n",
    "$$\n",
    "x=\\frac{-b\\pm\\sqrt{b^2-4ac}}{2a}\n",
    "$$\n",
    "\n",
    "(a) use the program to compute the solution for $a=0.001$, $b=1000$ and $c=0.001$\n",
    "\n",
    "(b) re-express the standard solution formula by multiplying top and bottom by $-b\\mp\\sqrt{b^2-4ac}$ and again find the solution for $a=0.001$, $b=1000$ and $c=0.001$. How does it compare with what previously obtained? Why?\n",
    "\n",
    "(c) write a function that compute the roots of a quadratic equation accurately in all cases"
   ]
  },
  {
   "cell_type": "code",
   "execution_count": 19,
   "metadata": {},
   "outputs": [
    {
     "name": "stdout",
     "output_type": "stream",
     "text": [
      "498999.999999 -500999.999999\n",
      "0.0 0.0\n"
     ]
    }
   ],
   "source": [
    "from math import sqrt\n",
    "\n",
    "def QuadEqua(a, b, c):\n",
    "   return -b + sqrt(b**2 - 4*a*c)/(2*a), -b - sqrt(b**2 - 4*a*c)/(2*a)\n",
    "\n",
    "def ModQuadEqua(a, b, c):\n",
    "   return (-b + sqrt(b**2 - 4*a*c)/(2*a)) * QuadEqua(a, b, c)[1]*2*a/(QuadEqua(a, b, c)[1]*2*a), (-b - sqrt(b**2 - 4*a*c)/(2*a))* QuadEqua(a, b, c)[0]*2*a/(QuadEqua(a, b, c)[0]*2*a)\n",
    "\n",
    "\n",
    "\n",
    "Sol1, Sol2 = QuadEqua(0.001, 1000, 0.001)\n",
    "ModSol1, ModSol2 = ModQuadEqua(0.001, 1000, 0.001)\n",
    "print(Sol1, Sol2)\n",
    "print(ModSol1 - Sol1, ModSol2 - Sol2)"
   ]
  },
  {
   "cell_type": "markdown",
   "metadata": {},
   "source": [
    "6\\. Write a program that implements the function $f(x)=x(x−1)$\n",
    "\n",
    "(a) Calculate the derivative of the function at the point $x = 1$ using the derivative definition:\n",
    "\n",
    "$$\n",
    "\\frac{{\\rm d}f}{{\\rm d}x} = \\lim_{\\delta\\to0} \\frac{f(x+\\delta)-f(x)}{\\delta}\n",
    "$$\n",
    "\n",
    "with $\\delta = 10^{−2}$. Calculate the true value of the same derivative analytically and compare with the answer your program gives. The two will not agree perfectly. Why not?\n",
    "\n",
    "(b) Repeat the calculation for $\\delta = 10^{−4}, 10^{−6}, 10^{−8}, 10^{−10}, 10^{−12}$ and $10^{−14}$. How does the accuracy scales with $\\delta$?"
   ]
  },
  {
   "cell_type": "code",
   "execution_count": 20,
   "metadata": {},
   "outputs": [
    {
     "name": "stdout",
     "output_type": "stream",
     "text": [
      "-0.9900000000000001\n",
      "-0.9999\n",
      "-0.999999\n",
      "-0.99999999\n",
      "-0.9999999999\n",
      "-0.9999999999989999\n",
      "-0.99999999999999\n"
     ]
    }
   ],
   "source": [
    "def f(x):\n",
    "   return x*(x-1)\n",
    "\n",
    "def Derivative(x, delta):\n",
    "   return (f(x + delta) - f(x))/delta\n",
    "\n",
    "deltas = [1e-2, 1e-4, 1e-6, 1e-8, 1e-10, 1e-12, 1e-14]\n",
    "\n",
    "for delta in deltas:\n",
    "   print(Derivative(0, delta))"
   ]
  },
  {
   "cell_type": "markdown",
   "metadata": {},
   "source": [
    "7\\. Consider the integral of the semicircle of radius 1:\n",
    "$$\n",
    "I=\\int_{-1}^{1} \\sqrt(1-x^2) {\\rm d}x\n",
    "$$\n",
    "which it's known to be $I=\\frac{\\pi}{2}=1.57079632679...$.\n",
    "Alternatively we can use the Riemann definition of the integral:\n",
    "$$\n",
    "I=\\lim_{N\\to\\infty} \\sum_{k=1}^{N} h y_k \n",
    "$$\n",
    "\n",
    "with $h=2/N$ the width of each of the $N$ slices the domain is divided into and where\n",
    "$y_k$ is the value of the function at the $k-$th slice.\n",
    "\n",
    "(a) Write a programe to compute the integral with $N=100$. How does the result compares to the true value?\n",
    "\n",
    "(b) How much can $N$ be increased if the computation needs to be run in less than a second? What is the gain in running it for 1 minute? \n"
   ]
  },
  {
   "cell_type": "code",
   "execution_count": 46,
   "metadata": {},
   "outputs": [
    {
     "name": "stdout",
     "output_type": "stream",
     "text": [
      "\n",
      "\n",
      "Calculated Integral: 1.5707958471454435\n",
      "True Value: 1.5707963267948966\n",
      "Difference between true value:  4.796494530445727e-07\n",
      "Time taken: 1.12 seconds for N=3276800\n",
      "Calculated Integral: 1.5707963193046903\n",
      "True Value: 1.5707963267948966\n",
      "Difference between true value:  7.49020623302954e-09\n",
      "Time taken: 66.49 seconds for N=209715200\n"
     ]
    }
   ],
   "source": [
    "from math import sqrt\n",
    "import numpy as np\n",
    "import tqdm\n",
    "import time\n",
    "\n",
    "TrueValue = np.pi/2\n",
    "\n",
    "\n",
    "\n",
    "def f(x):\n",
    "   return sqrt(1-x**2)\n",
    "\n",
    "\n",
    "\n",
    "def I(h, N):\n",
    "\n",
    "   x = np.linspace(-1, 1, N)\n",
    "\n",
    "   Integral = 0\n",
    "   for i in x:\n",
    "      Integral += f(i)*h\n",
    "\n",
    "   return Integral\n",
    "\n",
    "\n",
    "\n",
    "def KeepRunningUntil(Time):\n",
    "\n",
    "   N = 100\n",
    "   h = 2/N\n",
    "\n",
    "   startTime = time.time()\n",
    "   while True:\n",
    "\n",
    "      Integral = I(h, N)\n",
    "\n",
    "      TimeElapsed = time.time() - startTime\n",
    "      if TimeElapsed > Time:\n",
    "         break\n",
    "\n",
    "      N *= 2\n",
    "      h = 2/N\n",
    "\n",
    "   print(f\"Calculated Integral: {Integral}\")\n",
    "   print(f\"True Value: {TrueValue}\")\n",
    "   print(\"Difference between true value: \", np.abs(Integral - TrueValue))\n",
    "   print(f\"Time taken: {TimeElapsed:.2f} seconds for N={N}\")\n",
    "\n",
    "\n",
    "\n",
    "N = 100\n",
    "h = 2/N\n",
    "\n",
    "print(\"\\n\")\n",
    "KeepRunningUntil(1)\n",
    "\n",
    "KeepRunningUntil(60)\n",
    "\n",
    "\n",
    "\n",
    "\n",
    "\n",
    "\n",
    "\n",
    "\n",
    "\n",
    "\n"
   ]
  },
  {
   "cell_type": "code",
   "execution_count": null,
   "metadata": {},
   "outputs": [],
   "source": []
  }
 ],
 "metadata": {
  "kernelspec": {
   "display_name": "base",
   "language": "python",
   "name": "python3"
  },
  "language_info": {
   "codemirror_mode": {
    "name": "ipython",
    "version": 3
   },
   "file_extension": ".py",
   "mimetype": "text/x-python",
   "name": "python",
   "nbconvert_exporter": "python",
   "pygments_lexer": "ipython3",
   "version": "3.12.2"
  }
 },
 "nbformat": 4,
 "nbformat_minor": 2
}
