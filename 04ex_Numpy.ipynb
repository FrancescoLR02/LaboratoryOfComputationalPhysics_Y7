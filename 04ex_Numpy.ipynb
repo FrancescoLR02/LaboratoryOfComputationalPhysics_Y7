{
 "cells": [
  {
   "cell_type": "markdown",
   "metadata": {},
   "source": [
    "### Numpy basics"
   ]
  },
  {
   "cell_type": "code",
   "execution_count": 1,
   "metadata": {},
   "outputs": [],
   "source": [
    "import numpy as np"
   ]
  },
  {
   "cell_type": "markdown",
   "metadata": {},
   "source": [
    "1\\. Find the row, column and overall means for the following matrix:\n",
    "\n",
    "```python\n",
    "m = np.arange(12).reshape((3,4))\n",
    "```"
   ]
  },
  {
   "cell_type": "code",
   "execution_count": 10,
   "metadata": {},
   "outputs": [
    {
     "name": "stdout",
     "output_type": "stream",
     "text": [
      "[[ 0  1  2  3]\n",
      " [ 4  5  6  7]\n",
      " [ 8  9 10 11]]\n",
      "Rows:  [array([0, 4, 8]), array([1, 5, 9]), array([ 2,  6, 10]), array([ 3,  7, 11])]\n",
      "Colums:  [array([0, 1, 2, 3]), array([4, 5, 6, 7]), array([ 8,  9, 10, 11])]\n",
      "Means:  5.5\n"
     ]
    }
   ],
   "source": [
    "m = np.arange(12).reshape((3, 4))\n",
    "\n",
    "print(m)\n",
    "\n",
    "print(\"Rows: \", [m[:, i] for i in range(m.shape[1])])\n",
    "print(\"Colums: \", [m[i, :] for i in range(m.shape[0])])\n",
    "print(\"Means: \", m.mean())"
   ]
  },
  {
   "cell_type": "markdown",
   "metadata": {},
   "source": [
    "2\\. Find the outer product of the following two vecotrs\n",
    "\n",
    "```python\n",
    "u = np.array([1,3,5,7])\n",
    "v = np.array([2,4,6,8])\n",
    "```\n",
    "\n",
    "Do this in the following ways:\n",
    "\n",
    "   * Using the function outer in numpy\n",
    "   * Using a nested for loop or list comprehension\n",
    "   * Using numpy broadcasting operatoins\n"
   ]
  },
  {
   "cell_type": "code",
   "execution_count": 15,
   "metadata": {},
   "outputs": [
    {
     "name": "stdout",
     "output_type": "stream",
     "text": [
      "Using outer: \n",
      " [[ 2  4  6  8]\n",
      " [ 6 12 18 24]\n",
      " [10 20 30 40]\n",
      " [14 28 42 56]]\n",
      "USing list comph: \n",
      " [[2, 6, 10, 14], [4, 12, 20, 28], [6, 18, 30, 42], [8, 24, 40, 56]]\n",
      "Using broadcasing: \n",
      " [[ 2  4  6  8]\n",
      " [ 6 12 18 24]\n",
      " [10 20 30 40]\n",
      " [14 28 42 56]]\n"
     ]
    }
   ],
   "source": [
    "u = np.array([1, 3, 5, 7])\n",
    "v = np.array([2, 4, 6, 8])\n",
    "\n",
    "\n",
    "print(\"Using outer: \\n\", np.outer(u, v))\n",
    "print(\"USing list comph: \\n\", [[x * y for y in u] for x in v])\n",
    "print(\"Using broadcasing: \\n\", u[:, np.newaxis]*v)"
   ]
  },
  {
   "cell_type": "markdown",
   "metadata": {},
   "source": [
    "3\\. Create a 10 by 6 matrix of random uniform numbers. Set all rows with any entry less than 0.1 to be zero\n",
    "\n",
    "Hint: Use the following numpy functions - np.random.random, np.any as well as Boolean indexing and the axis argument."
   ]
  },
  {
   "cell_type": "code",
   "execution_count": 22,
   "metadata": {},
   "outputs": [
    {
     "name": "stdout",
     "output_type": "stream",
     "text": [
      "[[0.24738479 0.7855961  0.28936847 0.49924249 0.68037586 0.5977946 ]\n",
      " [0.15463476 0.97424426 0.69491771 0.67014886 0.23029753 0.30106006]\n",
      " [0.24930635 0.22127437 0.79557735 0.73384855 0.04124213 0.94598791]\n",
      " [0.47748116 0.31852923 0.73750259 0.13780321 0.94390093 0.12236286]\n",
      " [0.37334004 0.57042831 0.93787722 0.70073757 0.54916605 0.54556611]\n",
      " [0.21329734 0.60902137 0.30981695 0.94460048 0.63300523 0.59108231]\n",
      " [0.04813262 0.69195784 0.58387862 0.38698484 0.44135015 0.30437088]\n",
      " [0.03212622 0.94248379 0.17572167 0.83510966 0.39284507 0.85898952]\n",
      " [0.6911878  0.28609676 0.698374   0.11384277 0.27158024 0.91428925]\n",
      " [0.87617503 0.94418834 0.91376836 0.3757272  0.68813733 0.78892151]]\n",
      "Processed Matrix: \n",
      " [[0.24738479 0.7855961  0.28936847 0.49924249 0.68037586 0.5977946 ]\n",
      " [0.15463476 0.97424426 0.69491771 0.67014886 0.23029753 0.30106006]\n",
      " [0.         0.         0.         0.         0.         0.        ]\n",
      " [0.47748116 0.31852923 0.73750259 0.13780321 0.94390093 0.12236286]\n",
      " [0.37334004 0.57042831 0.93787722 0.70073757 0.54916605 0.54556611]\n",
      " [0.21329734 0.60902137 0.30981695 0.94460048 0.63300523 0.59108231]\n",
      " [0.         0.         0.         0.         0.         0.        ]\n",
      " [0.         0.         0.         0.         0.         0.        ]\n",
      " [0.6911878  0.28609676 0.698374   0.11384277 0.27158024 0.91428925]\n",
      " [0.87617503 0.94418834 0.91376836 0.3757272  0.68813733 0.78892151]]\n"
     ]
    }
   ],
   "source": [
    "Matrix = np.random.random((10, 6))\n",
    "\n",
    "print(Matrix)\n",
    "for i in range(Matrix.shape[0]):\n",
    "   if np.any(Matrix[i, :] < 0.1):\n",
    "      Matrix[i, :] = np.zeros(Matrix.shape[1])\n",
    "\n",
    "print(\"Processed Matrix: \\n\", Matrix)\n"
   ]
  },
  {
   "cell_type": "markdown",
   "metadata": {},
   "source": [
    "4\\. Use np.linspace to create an array of 100 numbers between 0 and 2π (includsive).\n",
    "\n",
    "  * Extract every 10th element using slice notation\n",
    "  * Reverse the array using slice notation\n",
    "  * Extract elements where the absolute difference between the sine and cosine functions evaluated at that element is less than 0.1\n",
    "  * Make a plot showing the sin and cos functions and indicate where they are close"
   ]
  },
  {
   "cell_type": "code",
   "execution_count": 43,
   "metadata": {},
   "outputs": [
    {
     "name": "stdout",
     "output_type": "stream",
     "text": [
      "Every 10 elements:  [0.         0.63466518 1.26933037 1.90399555 2.53866073 3.17332591\n",
      " 3.8079911  4.44265628 5.07732146 5.71198664]\n"
     ]
    },
    {
     "data": {
      "image/png": "[encoded data removed]",
      "text/plain": [
       "<Figure size 640x480 with 1 Axes>"
      ]
     },
     "metadata": {},
     "output_type": "display_data"
    }
   ],
   "source": [
    "import matplotlib.pyplot as plt\n",
    "\n",
    "x = np.linspace(0, 2*np.pi, 100)\n",
    "\n",
    "print(\"Every 10 elements: \", x[::10])\n",
    "#print(\"x reversed: \", x[::-1])\n",
    "\n",
    "\n",
    "Diff = np.abs(np.sin(x) - np.cos(x)) < 0.01\n",
    "\n",
    "plt.scatter(x, np.sin(x))\n",
    "plt.scatter(x, np.cos(x))\n",
    "plt.scatter(x[Diff], np.sin(x[Diff]), c = 'r')\n",
    "plt.scatter(x[Diff], np.cos(x[Diff]), c = 'r')\n",
    "plt.show()"
   ]
  },
  {
   "cell_type": "markdown",
   "metadata": {},
   "source": [
    "5\\. Create a matrix that shows the 10 by 10 multiplication table.\n",
    "\n",
    " * Find the trace of the matrix\n",
    " * Extract the anto-diagonal (this should be ```array([10, 18, 24, 28, 30, 30, 28, 24, 18, 10])```)\n",
    " * Extract the diagnoal offset by 1 upwards (this should be ```array([ 2,  6, 12, 20, 30, 42, 56, 72, 90])```)"
   ]
  },
  {
   "cell_type": "code",
   "execution_count": 54,
   "metadata": {},
   "outputs": [
    {
     "name": "stdout",
     "output_type": "stream",
     "text": [
      "Trace:  385\n",
      "[[  1   2   3   4   5   6   7   8   9  10]\n",
      " [  2   4   6   8  10  12  14  16  18  20]\n",
      " [  3   6   9  12  15  18  21  24  27  30]\n",
      " [  4   8  12  16  20  24  28  32  36  40]\n",
      " [  5  10  15  20  25  30  35  40  45  50]\n",
      " [  6  12  18  24  30  36  42  48  54  60]\n",
      " [  7  14  21  28  35  42  49  56  63  70]\n",
      " [  8  16  24  32  40  48  56  64  72  80]\n",
      " [  9  18  27  36  45  54  63  72  81  90]\n",
      " [ 10  20  30  40  50  60  70  80  90 100]]\n",
      "Antidiagonal:  [10, 18, 24, 28, 30, 30, 28, 24, 18, 10]\n",
      "Diagonal Offset:  [2, 6, 12, 20, 30, 42, 56, 72, 90]\n"
     ]
    }
   ],
   "source": [
    "x = np.arange(1, 11)\n",
    "\n",
    "TenMoltTab = np.outer(x, x)\n",
    "print(\"Trace: \", TenMoltTab.trace())\n",
    "\n",
    "print(TenMoltTab)\n",
    "\n",
    "Antidiagonal, DiagOff = [], []\n",
    "for i in range(x.shape[0]):\n",
    "   Antidiagonal.append(TenMoltTab[i, -i - 1])\n",
    "\n",
    "for i in range(x.shape[0] - 1):\n",
    "   DiagOff.append(TenMoltTab[i + 1, i])\n",
    "\n",
    "print(\"Antidiagonal: \",Antidiagonal)\n",
    "print(\"Diagonal Offset: \", DiagOff)"
   ]
  },
  {
   "cell_type": "markdown",
   "metadata": {},
   "source": [
    "6\\. Use broadcasting to create a grid of distances\n",
    "\n",
    "Route 66 crosses the following cities in the US: Chicago, Springfield, Saint-Louis, Tulsa, Oklahoma City, Amarillo, Santa Fe, Albuquerque, Flagstaff, Los Angeles\n",
    "The corresponding positions in miles are: 0, 198, 303, 736, 871, 1175, 1475, 1544, 1913, 2448\n",
    "\n",
    "  * Construct a 2D grid of distances among each city along Route 66\n",
    "  * Convert that in km (those savages...)"
   ]
  },
  {
   "cell_type": "code",
   "execution_count": 67,
   "metadata": {},
   "outputs": [
    {
     "data": {
      "text/plain": [
       "array([[   0.     ,  318.64932,  487.63002, 1184.47424, 1401.73514,\n",
       "        1890.9745 , 2373.7765 , 2484.82096, 3078.66742, 3939.66432],\n",
       "       [ 318.64932,    0.     ,  168.9807 ,  865.82492, 1083.08582,\n",
       "        1572.32518, 2055.12718, 2166.17164, 2760.0181 , 3621.015  ],\n",
       "       [ 487.63002,  168.9807 ,    0.     ,  696.84422,  914.10512,\n",
       "        1403.34448, 1886.14648, 1997.19094, 2591.0374 , 3452.0343 ],\n",
       "       [1184.47424,  865.82492,  696.84422,    0.     ,  217.2609 ,\n",
       "         706.50026, 1189.30226, 1300.34672, 1894.19318, 2755.19008],\n",
       "       [1401.73514, 1083.08582,  914.10512,  217.2609 ,    0.     ,\n",
       "         489.23936,  972.04136, 1083.08582, 1676.93228, 2537.92918],\n",
       "       [1890.9745 , 1572.32518, 1403.34448,  706.50026,  489.23936,\n",
       "           0.     ,  482.802  ,  593.84646, 1187.69292, 2048.68982],\n",
       "       [2373.7765 , 2055.12718, 1886.14648, 1189.30226,  972.04136,\n",
       "         482.802  ,    0.     ,  111.04446,  704.89092, 1565.88782],\n",
       "       [2484.82096, 2166.17164, 1997.19094, 1300.34672, 1083.08582,\n",
       "         593.84646,  111.04446,    0.     ,  593.84646, 1454.84336],\n",
       "       [3078.66742, 2760.0181 , 2591.0374 , 1894.19318, 1676.93228,\n",
       "        1187.69292,  704.89092,  593.84646,    0.     ,  860.9969 ],\n",
       "       [3939.66432, 3621.015  , 3452.0343 , 2755.19008, 2537.92918,\n",
       "        2048.68982, 1565.88782, 1454.84336,  860.9969 ,    0.     ]])"
      ]
     },
     "execution_count": 67,
     "metadata": {},
     "output_type": "execute_result"
    }
   ],
   "source": [
    "Distances = np.array([0, 198, 303, 736, 871, 1175, 1475, 1544, 1913, 2448])\n",
    "\n",
    "#! IMPORTANTE\n",
    "\n",
    "DistanceGrid = np.abs(Distances[:, np.newaxis] - Distances[np.newaxis, :]) *1.60934\n",
    "DistanceGrid"
   ]
  },
  {
   "cell_type": "markdown",
   "metadata": {},
   "source": [
    "7\\. Prime numbers sieve: compute the prime numbers in the 0-N (N=99 to start with) range with a sieve (mask).\n",
    "  * Constract a shape (100,) boolean array, the mask\n",
    "  * Identify the multiples of each number starting from 2 and set accordingly the corresponding mask element\n",
    "  * Apply the mask to obtain an array of ordered prime numbers\n",
    "  * Check the performances (timeit); how does it scale with N?\n",
    "  * Implement the optimization suggested in the [sieve of Eratosthenes](https://en.wikipedia.org/wiki/Sieve_of_Eratosthenes)"
   ]
  },
  {
   "cell_type": "code",
   "execution_count": null,
   "metadata": {},
   "outputs": [],
   "source": []
  },
  {
   "cell_type": "markdown",
   "metadata": {},
   "source": [
    "**N.B. the following exercises are meant to be solved only if you are familiar with the numpy random library. If not you can skip them (postponed for one of the next exercise sessions)**\n"
   ]
  },
  {
   "cell_type": "markdown",
   "metadata": {},
   "source": [
    "8\\. Diffusion using random walk\n",
    "\n",
    "Consider a simple random walk process: at each step in time, a walker jumps right or left (+1 or -1) with equal probability. The goal is to find the typical distance from the origin of a random walker after a given amount of time. \n",
    "To do that, let's simulate many walkers and create a 2D array with each walker as a raw and the actual time evolution as columns\n",
    "\n",
    "  * Take 1000 walkers and let them walk for 200 steps\n",
    "  * Use randint to create a 2D array of size walkers x steps with values -1 or 1\n",
    "  * Build the actual walking distances for each walker (i.e. another 2D array \"summing on each raw\")\n",
    "  * Take the square of that 2D array (elementwise)\n",
    "  * Compute the mean of the squared distances at each step (i.e. the mean along the columns)\n",
    "  * Plot the average distances (sqrt(distance\\*\\*2)) as a function of time (step)\n",
    "  \n",
    "Did you get what you expected?"
   ]
  },
  {
   "cell_type": "markdown",
   "metadata": {},
   "source": [
    "9\\. Analyze a data file \n",
    "  * Download the population of hares, lynxes and carrots at the beginning of the last century.\n",
    "    ```python\n",
    "    ! wget https://www.dropbox.com/s/3vigxoqayo389uc/populations.txt\n",
    "    ```\n",
    "\n",
    "  * Check the content by looking within the file\n",
    "  * Load the data (use an appropriate numpy method) into a 2D array\n",
    "  * Create arrays out of the columns, the arrays being (in order): *year*, *hares*, *lynxes*, *carrots* \n",
    "  * Plot the 3 populations over the years\n",
    "  * Compute the main statistical properties of the dataset (mean, std, correlations, etc.)\n",
    "  * Which species has the highest population each year?\n",
    "\n",
    "Do you feel there is some evident correlation here? [Studies](https://www.enr.gov.nt.ca/en/services/lynx/lynx-snowshoe-hare-cycle) tend to believe so."
   ]
  }
 ],
 "metadata": {
  "kernelspec": {
   "display_name": "base",
   "language": "python",
   "name": "python3"
  },
  "language_info": {
   "codemirror_mode": {
    "name": "ipython",
    "version": 3
   },
   "file_extension": ".py",
   "mimetype": "text/x-python",
   "name": "python",
   "nbconvert_exporter": "python",
   "pygments_lexer": "ipython3",
   "version": "3.12.2"
  }
 },
 "nbformat": 4,
 "nbformat_minor": 2
}
