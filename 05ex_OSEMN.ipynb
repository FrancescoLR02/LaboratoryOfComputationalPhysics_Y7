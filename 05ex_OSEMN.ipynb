{
 "cells": [
  {
   "cell_type": "markdown",
   "metadata": {},
   "source": [
    "# OSEMN Exercises"
   ]
  },
  {
   "cell_type": "code",
   "execution_count": 1,
   "metadata": {},
   "outputs": [],
   "source": [
    "%matplotlib inline\n",
    "import pandas as pd\n",
    "import numpy as np"
   ]
  },
  {
   "cell_type": "markdown",
   "metadata": {},
   "source": [
    "1\\. Create a random list of number and then save it to a text file named \"simple_data.txt\" \\\n",
    "2\\. Create a random matrix of 5x5 and then save it to a text file named \"data.txt\""
   ]
  },
  {
   "cell_type": "code",
   "execution_count": 8,
   "metadata": {},
   "outputs": [],
   "source": [
    "RandomList = np.random.random(100)\n",
    "RandomMatrix = np.random.random((5, 5))\n",
    "\n",
    "np.savetxt(\"simple_data.txt\", RandomList)\n",
    "np.savetxt(\"data.txt\", RandomMatrix)"
   ]
  },
  {
   "cell_type": "markdown",
   "metadata": {},
   "source": [
    "3\\. Load the saved txt file of point 2 and convert it to a csv file (by hand)"
   ]
  },
  {
   "cell_type": "code",
   "execution_count": 44,
   "metadata": {},
   "outputs": [
    {
     "name": "stdout",
     "output_type": "stream",
     "text": [
      "['5.506164790655515562e-01,6.143039206182924206e-01,7.011679178399320422e-01,7.130198346192080372e-01,2.840887154933380288e-01\\n', '6.921796458638957983e-01,1.292778490768164978e-02,8.693696998973673429e-01,4.805615164334997580e-01,9.851512217246709557e-01\\n', '4.621615856044536397e-01,7.674661821863115740e-02,5.254822316290269635e-01,7.628916114840355034e-01,6.169146948551275100e-01\\n', '7.412641484358624133e-01,8.487845758012791952e-01,1.199778133197765273e-01,4.719578443871274009e-01,3.924740355594407148e-01\\n', '7.271957013119955127e-01,1.087246858285919604e-01,6.953684778945654621e-01,9.405131943916203996e-01,2.965311226977768166e-01\\n']\n"
     ]
    }
   ],
   "source": [
    "CSVformat = []\n",
    "\n",
    "with open(\"data.txt\", 'r') as file:\n",
    "   for line in file:\n",
    "      line = line.replace(\" \", \",\")\n",
    "      CSVformat.append(line)\n",
    "\n",
    "print(CSVformat)"
   ]
  },
  {
   "cell_type": "markdown",
   "metadata": {},
   "source": [
    "4\\. load the binary file named *credit_card.dat* and convert the data into the real credit-card number.\n",
    "Each line correspond to a credit card number.\n",
    "Each character is composed by 6 bit (even the space) and the last 4 bit are just a padding\n",
    "\n",
    "**hint**: use the `chr()` function to convert a number to a char"
   ]
  },
  {
   "cell_type": "code",
   "execution_count": null,
   "metadata": {},
   "outputs": [],
   "source": [
    "with open(\"credit_card.dat\", \"r\") as file:\n",
    "   NumberOfCC = ' '\n",
    "   for line in file:\n",
    "      for i in range(0, len(line) - 4, 6):\n",
    "         NumberOfCC += chr(int(line[i:i+6], 2))\n",
    "\n",
    "\n",
    "print(NumberOfCC)"
   ]
  },
  {
   "cell_type": "markdown",
   "metadata": {},
   "source": [
    "5\\. Load the file \"user_data.json\", filter the data by the \"CreditCardType\" field equals to \"American Express\". Than save the data a to CSV."
   ]
  },
  {
   "cell_type": "markdown",
   "metadata": {},
   "source": [
    "6\\. Load the file from this url: [https://www.dropbox.com/s/7u3lm737ogbqsg8/mushrooms_categorized.csv?dl=1](https://www.dropbox.com/s/7u3lm737ogbqsg8/mushrooms_categorized.csv?dl=1) with Pandas. \n",
    "+ Explore the data (see the info of the data)\n",
    "+ Draw the istogram of the 'class' field. Decribe wath yuou see\n"
   ]
  },
  {
   "cell_type": "markdown",
   "metadata": {},
   "source": [
    "7\\. Load the remote file [https://www.dropbox.com/s/vkl89yce7xjdq4n/regression_generated.csv?dl=1](https://www.dropbox.com/s/vkl89yce7xjdq4n/regression_generated.csv?dl=1) with Pandas and plot a scatter plot all possible combination of the following fields:\n",
    "    \n",
    "  + features_1\n",
    "  + features_2\n",
    "  + features_3"
   ]
  },
  {
   "cell_type": "markdown",
   "metadata": {},
   "source": [
    "8\\. Load the same file of point 6, and convert the file to json with Pandas."
   ]
  }
 ],
 "metadata": {
  "kernelspec": {
   "display_name": "base",
   "language": "python",
   "name": "python3"
  },
  "language_info": {
   "codemirror_mode": {
    "name": "ipython",
    "version": 3
   },
   "file_extension": ".py",
   "mimetype": "text/x-python",
   "name": "python",
   "nbconvert_exporter": "python",
   "pygments_lexer": "ipython3",
   "version": "3.12.2"
  }
 },
 "nbformat": 4,
 "nbformat_minor": 2
}
