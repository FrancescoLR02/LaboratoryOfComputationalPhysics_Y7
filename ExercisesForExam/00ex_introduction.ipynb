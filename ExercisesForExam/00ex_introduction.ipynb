{
 "cells": [
  {
   "cell_type": "markdown",
   "metadata": {},
   "source": [
    "1. The MickeyMouse problem\n",
    "\n",
    "a) Write a program that prints the numbers from 1 to 100. But for multiples of 3 print `Mickey` instead of the corresponding number and for the multiples of 5 print `Mouse`. For numbers which are multiples of both three and five print `MickeyMouse`\n",
    "\n",
    "b) Put the result in a tuple and substitute `Mickey` with `Donald` and `Mouse` with `Duck`"
   ]
  },
  {
   "cell_type": "code",
   "execution_count": 7,
   "metadata": {},
   "outputs": [
    {
     "name": "stdout",
     "output_type": "stream",
     "text": [
      "('Donald', 'Duck', 'Donald', 'Donald', 'Duck', 'Donald', 'DonaldDuck', 'Donald', 'Duck', 'Donald', 'Donald', 'Duck', 'Donald', 'DonaldDuck', 'Donald', 'Duck', 'Donald', 'Donald', 'Duck', 'Donald', 'DonaldDuck', 'Donald', 'Duck', 'Donald', 'Donald', 'Duck', 'Donald', 'DonaldDuck', 'Donald', 'Duck', 'Donald', 'Donald', 'Duck', 'Donald', 'DonaldDuck', 'Donald', 'Duck', 'Donald', 'Donald', 'Duck', 'Donald', 'DonaldDuck', 'Donald', 'Duck', 'Donald', 'Donald', 'Duck')\n"
     ]
    }
   ],
   "source": [
    "Names = []\n",
    "\n",
    "for i in range(1, 101):\n",
    "\n",
    "   if (i % 3 == 0 and i % 5 == 0):\n",
    "      #print(\"MickeyMouse\")\n",
    "      Names.append(\"MickeyMouse\")\n",
    "   elif (i % 3 == 0):\n",
    "      #print(\"Mickey\")\n",
    "      Names.append(\"Mickey\")\n",
    "   elif (i % 5 == 0):\n",
    "      #print(\"Mouse\")\n",
    "      Names.append(\"Mouse\")\n",
    "   #else:\n",
    "      #print(i)\n",
    "\n",
    "NewNames = [name.replace(\"Mickey\", \"Donald\") for name in Names]\n",
    "FinalName = [name.replace(\"Mouse\", \"Duck\") for name in NewNames]\n",
    "\n",
    "print(tuple(FinalName))"
   ]
  },
  {
   "cell_type": "markdown",
   "metadata": {},
   "source": [
    "2\\. The swap function\n",
    "\n",
    "Write a function that swap the values of two input variables x and y (whatever the type). Try to do that also without a temporary variable"
   ]
  },
  {
   "cell_type": "code",
   "execution_count": 6,
   "metadata": {},
   "outputs": [
    {
     "name": "stdout",
     "output_type": "stream",
     "text": [
      "Initial values:  3 4\n",
      "Swapped values:  4 4\n",
      "Swapped values:  4 3\n"
     ]
    }
   ],
   "source": [
    "#Without temp function:\n",
    "\n",
    "def SwapWithTemp(x, y):\n",
    "   t = x\n",
    "   x = y\n",
    "   t = t\n",
    "   print(\"Swapped values: \", x, y)\n",
    "\n",
    "def SwapWOTemp(x, y):\n",
    "   print(\"Swapped values: \", y, x)\n",
    "\n",
    "x, y = 3, 4\n",
    "\n",
    "print(\"Initial values: \",x, y)\n",
    "\n",
    "SwapWithTemp(x, y)\n",
    "SwapWOTemp(x, y)"
   ]
  },
  {
   "cell_type": "markdown",
   "metadata": {},
   "source": [
    "3\\. Computing the distance\n",
    "\n",
    "Write a function that calculates and returns the euclidean distance between two points *u* and *v*, where *u* and *v* are both 2-tuples *(x,y)*. For example, if *u=(3,0)* and *v=(0,4)*, the function should return 5"
   ]
  },
  {
   "cell_type": "code",
   "execution_count": 9,
   "metadata": {},
   "outputs": [
    {
     "name": "stdout",
     "output_type": "stream",
     "text": [
      "5.0\n"
     ]
    }
   ],
   "source": [
    "from math import sqrt\n",
    "\n",
    "u, v = (3, 0), (0, 4)\n",
    "\n",
    "EuclidianDistance = lambda u, v: sqrt((u[0] - v[0])**2 + (u[1] - v[1])**2)\n",
    "\n",
    "Distance = EuclidianDistance(u, v)\n",
    "print(Distance)"
   ]
  },
  {
   "cell_type": "markdown",
   "metadata": {},
   "source": [
    "4\\. Counting letters\n",
    "\n",
    "Write a program to calculate the number of times each character occurs in a given string *s*. Ignore differneces in capitalization"
   ]
  },
  {
   "cell_type": "code",
   "execution_count": 13,
   "metadata": {},
   "outputs": [
    {
     "name": "stdout",
     "output_type": "stream",
     "text": [
      "The letter w appears 2 times\n",
      "The letter r appears 17 times\n",
      "The letter i appears 14 times\n",
      "The letter t appears 19 times\n",
      "The letter e appears 22 times\n",
      "The letter   appears 41 times\n",
      "The letter a appears 7 times\n",
      "The letter p appears 8 times\n",
      "The letter o appears 13 times\n",
      "The letter g appears 1 times\n",
      "The letter m appears 12 times\n",
      "The letter h appears 9 times\n",
      "The letter n appears 10 times\n",
      "The letter s appears 9 times\n",
      "The letter u appears 9 times\n",
      "The letter b appears 5 times\n",
      "The letter f appears 10 times\n",
      "The letter 1 appears 2 times\n",
      "The letter 0 appears 2 times\n",
      "The letter . appears 2 times\n",
      "The letter l appears 6 times\n",
      "The letter c appears 3 times\n",
      "The letter k appears 2 times\n",
      "The letter y appears 2 times\n",
      "The letter d appears 3 times\n",
      "The letter v appears 2 times\n"
     ]
    }
   ],
   "source": [
    "s=\"Write a program that prints the numbers from 1 to 100. \\\n",
    "But for multiples of three print Mickey instead of the number and for the multiples of five print Mouse. \\\n",
    "For numbers which are multiples of both three and five print MickeyMouse\"\n",
    "\n",
    "#I'm going to use a dictionary, saving inside it as keys the character it has never seen and couting the one it has already seen:\n",
    "\n",
    "Dict = {}\n",
    "\n",
    "s = s.lower()\n",
    "\n",
    "for letter in s:\n",
    "   \n",
    "   if letter not in Dict:\n",
    "      Dict[letter] = 1\n",
    "\n",
    "   else:\n",
    "      Dict[letter] += 1\n",
    "\n",
    "for key in Dict:\n",
    "   print(f\"The letter {key} appears {Dict[key]} times\")"
   ]
  },
  {
   "cell_type": "markdown",
   "metadata": {},
   "source": [
    "5\\. Isolating the unique\n",
    "\n",
    "Write a function that determines and count the unique numbers in the list *l*"
   ]
  },
  {
   "cell_type": "code",
   "execution_count": 17,
   "metadata": {},
   "outputs": [
    {
     "name": "stdout",
     "output_type": "stream",
     "text": [
      "[58, 74, 96, 64, 10, 24, 19, 33, 86, 99, 18, 47, 88, 55, 54, 8, 79, 81, 57, 37, 1, 9, 95, 90, 98, 39, 16, 82, 92, 41, 30, 94, 5, 72, 87, 75, 53]\n"
     ]
    }
   ],
   "source": [
    "l = [36, 45, 58, 3, 74, 96, 64, 45, 31, 10, 24, 19, 33, 86, 99, 18, 63, 70, 85,\n",
    " 85, 63, 47, 56, 42, 70, 84, 88, 55, 20, 54, 8, 56, 51, 79, 81, 57, 37, 91,\n",
    " 1, 84, 84, 36, 66, 9, 89, 50, 42, 91, 50, 95, 90, 98, 39, 16, 82, 31, 92, 41,\n",
    " 45, 30, 66, 70, 34, 85, 94, 5, 3, 36, 72, 91, 84, 34, 87, 75, 53, 51, 20, 89, 51, 20]\n",
    "\n",
    "\n",
    "def Unique(l):\n",
    "   uniqueValue = [value for value in l if l.count(value) == 1]\n",
    "\n",
    "   return uniqueValue\n",
    "\n",
    "uniqueValue = Unique(l)\n",
    "print(uniqueValue)\n"
   ]
  },
  {
   "cell_type": "markdown",
   "metadata": {},
   "source": [
    "6\\. Combination of functions\n",
    "\n",
    "Write two functions - one that returns the square of a number, and one that returns the cube. Now write a third function that returns the number raised to the 6th power using the two previous functions."
   ]
  },
  {
   "cell_type": "code",
   "execution_count": 19,
   "metadata": {},
   "outputs": [
    {
     "data": {
      "text/plain": [
       "64"
      ]
     },
     "execution_count": 19,
     "metadata": {},
     "output_type": "execute_result"
    }
   ],
   "source": [
    "Square = lambda x: x**2\n",
    "Third = lambda x: x**3\n",
    "\n",
    "Sixth = lambda x: Square(Third(x))\n",
    "\n",
    "Sixth(2)"
   ]
  },
  {
   "cell_type": "markdown",
   "metadata": {},
   "source": [
    "7\\. Cubes\n",
    "\n",
    "Create a list of the cubes of x for x in *[0, 10]* using:\n",
    "\n",
    "a) a for loop\n",
    "\n",
    "b) a list comprehension"
   ]
  },
  {
   "cell_type": "code",
   "execution_count": 20,
   "metadata": {},
   "outputs": [
    {
     "name": "stdout",
     "output_type": "stream",
     "text": [
      "[0, 1, 8, 27, 64, 125, 216, 343, 512, 729, 1000]\n",
      "[0, 1, 8, 27, 64, 125, 216, 343, 512, 729, 1000]\n"
     ]
    }
   ],
   "source": [
    "#Using for loop:\n",
    "\n",
    "List = []\n",
    "for i in range(11):\n",
    "   List.append(i**3)\n",
    "\n",
    "#Using list comprehension:\n",
    "ListC = [i**3 for i in range(11)]\n",
    "\n",
    "print(List)\n",
    "print(ListC)"
   ]
  },
  {
   "cell_type": "markdown",
   "metadata": {},
   "source": [
    "8\\. Nested list comprehension\n",
    "\n",
    "A Pythagorean triple is an integer solution to the Pythagorean theorem $a^2+b^2=c^2$. The first Pythagorean triple is (3,4,5). Find and put in a tuple all unique Pythagorean triples for the positive integers a, b and c less than 100."
   ]
  },
  {
   "cell_type": "code",
   "execution_count": 25,
   "metadata": {},
   "outputs": [
    {
     "name": "stdout",
     "output_type": "stream",
     "text": [
      "50\n"
     ]
    }
   ],
   "source": [
    "Triplets = [(a, b, c) for a in range(1, 100) for b in range(a, 100) for c in range(1, 100) if a**2 + b**2 == c**2]\n",
    "\n",
    "print(Triplets)"
   ]
  },
  {
   "cell_type": "markdown",
   "metadata": {},
   "source": [
    "9\\. Normalization\n",
    "\n",
    "Write a function that takes a tuple of numbers and returns it with the entries normalized to one"
   ]
  },
  {
   "cell_type": "code",
   "execution_count": 34,
   "metadata": {},
   "outputs": [
    {
     "name": "stdout",
     "output_type": "stream",
     "text": [
      "The normalized tuple vector is: \n",
      " (0.25, 0.2, 0.05, 0.1, 0.15, 0.25)\n"
     ]
    }
   ],
   "source": [
    "Normalization = lambda x: tuple(y/sum(x) for y in x )\n",
    "\n",
    "test = Normalization((5, 4, 1, 2, 3, 5))\n",
    "\n",
    "print(\"The normalized tuple vector is: \\n\", test)\n",
    "\n",
    "\n"
   ]
  },
  {
   "cell_type": "code",
   "execution_count": null,
   "metadata": {},
   "outputs": [],
   "source": []
  }
 ],
 "metadata": {
  "kernelspec": {
   "display_name": "base",
   "language": "python",
   "name": "python3"
  },
  "language_info": {
   "codemirror_mode": {
    "name": "ipython",
    "version": 3
   },
   "file_extension": ".py",
   "mimetype": "text/x-python",
   "name": "python",
   "nbconvert_exporter": "python",
   "pygments_lexer": "ipython3",
   "version": "3.12.2"
  }
 },
 "nbformat": 4,
 "nbformat_minor": 2
}
