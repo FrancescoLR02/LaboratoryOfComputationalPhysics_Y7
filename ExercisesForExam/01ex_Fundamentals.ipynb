{
 "cells": [
  {
   "cell_type": "markdown",
   "metadata": {},
   "source": [
    "0\\. Implement a function (whatever you want) and save it to a file (e.g. `function.py`). Import that file and use that function in this notebook.\n"
   ]
  },
  {
   "cell_type": "markdown",
   "metadata": {},
   "source": [
    "1\\. Write the following as a list comprehension"
   ]
  },
  {
   "cell_type": "code",
   "execution_count": 6,
   "metadata": {},
   "outputs": [
    {
     "name": "stdout",
     "output_type": "stream",
     "text": [
      "[(0, 0), (0, 1), (0, 2), (0, 3), (1, 0), (1, 1), (1, 2), (1, 3), (2, 0), (2, 1), (2, 2), (2, 3)]\n",
      "[(0, 0), (0, 1), (0, 2), (0, 3), (1, 0), (1, 1), (1, 2), (1, 3), (2, 0), (2, 1), (2, 2), (2, 3)]\n",
      "[0, 4, 16]\n",
      "[0, 4, 16]\n"
     ]
    }
   ],
   "source": [
    "# 1\n",
    "ans = []\n",
    "for i in range(3):\n",
    "    for j in range(4):\n",
    "        ans.append((i, j))\n",
    "print (ans)\n",
    "\n",
    "#As list comp.\n",
    "List1 = [(a, b) for a in range(3) for b in range(4)]\n",
    "\n",
    "print(List1)\n",
    "\n",
    "# 2\n",
    "ans = map(lambda x: x*x, filter(lambda x: x%2 == 0, range(5)))\n",
    "print (list(ans))\n",
    "\n",
    "List2 = [i**2 for i in range(5) if i**2 % 4 == 0]\n",
    "print(List2)"
   ]
  },
  {
   "cell_type": "markdown",
   "metadata": {},
   "source": [
    "2\\. Convert the following function into a pure function with no global variables or side effects"
   ]
  },
  {
   "cell_type": "code",
   "execution_count": 7,
   "metadata": {},
   "outputs": [
    {
     "name": "stdout",
     "output_type": "stream",
     "text": [
      "[1, 2, 3, 0, 1, 2, 3, 4]\n",
      "[1, 2, 3, 0, 1, 2, 3, 4]\n"
     ]
    }
   ],
   "source": [
    "x = 5\n",
    "def f(alist):\n",
    "    for i in range(x):\n",
    "         alist.append(i)\n",
    "    return alist\n",
    "\n",
    "alist = [1,2,3]\n",
    "ans = f(alist)\n",
    "print (ans)\n",
    "print (alist) # alist has been changed!"
   ]
  },
  {
   "cell_type": "markdown",
   "metadata": {},
   "source": [
    "3\\. Write a `decorator` hello that makes every wrapped function print “Hello!”, i.e. something like:\n",
    "\n",
    "```python\n",
    "@hello\n",
    "def square(x):\n",
    "    return x*x\n",
    "```\n",
    "\n"
   ]
  },
  {
   "cell_type": "code",
   "execution_count": 11,
   "metadata": {},
   "outputs": [
    {
     "name": "stdout",
     "output_type": "stream",
     "text": [
      "Hello!\n"
     ]
    },
    {
     "data": {
      "text/plain": [
       "5"
      ]
     },
     "execution_count": 11,
     "metadata": {},
     "output_type": "execute_result"
    }
   ],
   "source": [
    "def Hello(f):\n",
    "\n",
    "   def f(x):\n",
    "      print(\"Hello!\")\n",
    "\n",
    "      return x\n",
    "   return f\n",
    "\n",
    "@Hello\n",
    "def Square(x):\n",
    "   return x**2\n",
    "\n",
    "FuncDec = Square(5)\n",
    "FuncDec"
   ]
  },
  {
   "cell_type": "markdown",
   "metadata": {},
   "source": [
    "4\\. Write the factorial function so that it a) does and b) does not use recursion."
   ]
  },
  {
   "cell_type": "code",
   "execution_count": 15,
   "metadata": {},
   "outputs": [
    {
     "name": "stdout",
     "output_type": "stream",
     "text": [
      "the solution using recursive factorial is: 120, wherehas the solution using a for loop is: 120\n"
     ]
    }
   ],
   "source": [
    "def RecursiveFact(x):\n",
    "\n",
    "   if x == 0 or x == 1:\n",
    "      return 1\n",
    "   \n",
    "   else:\n",
    "      return x*RecursiveFact(x-1)\n",
    "   \n",
    "\n",
    "def Fact(x):\n",
    "\n",
    "   prod = 1\n",
    "   for i in range(1, x+1):\n",
    "      prod *= i\n",
    "\n",
    "   return prod\n",
    "\n",
    "Recursive = RecursiveFact(5)\n",
    "Factorial = Fact(5)\n",
    "\n",
    "print(f\"the solution using recursive factorial is: {Recursive}, wherehas the solution using a for loop is: {Factorial}\")"
   ]
  },
  {
   "cell_type": "markdown",
   "metadata": {},
   "source": [
    "5\\. Use HOFs (zip in particular) to compute the weight of a circle, a disk and a sphere, assuming different radii and different densities:\n",
    "\n",
    "```python\n",
    "densities = {\"Al\":[0.5,1,2],\"Fe\":[3,4,5],\"Pb\": [15,20,30]}\n",
    "radii = [1,2,3]\n",
    "```\n",
    "\n",
    "where the entries of the dictionary's values are the linear, superficial and volumetric densities of the materials respectively.\n",
    "\n",
    "In particular define a list of three lambda functions using a comprehension that computes the circumference, the area and the volume for a given radius.\n"
   ]
  },
  {
   "cell_type": "code",
   "execution_count": 32,
   "metadata": {},
   "outputs": [
    {
     "name": "stdout",
     "output_type": "stream",
     "text": [
      "The Linear volume of Al for a given radius 1 is: 3.141592653589793\n",
      "The Linear volume of Fe for a given radius 2 is: 37.69911184307752\n",
      "The Linear volume of Pb for a given radius 3 is: 282.7433388230814\n",
      "The Superficial volume of Al for a given radius 1 is: 3.141592653589793\n",
      "The Superficial volume of Fe for a given radius 2 is: 50.26548245743669\n",
      "The Superficial volume of Pb for a given radius 3 is: 565.4866776461628\n",
      "The Volumetric volume of Al for a given radius 1 is: 4.71238898038469\n",
      "The Volumetric volume of Fe for a given radius 2 is: 94.24777960769379\n",
      "The Volumetric volume of Pb for a given radius 3 is: 1908.5175370557993\n"
     ]
    }
   ],
   "source": [
    "from math import pi\n",
    "\n",
    "Densities = {'Al': [0.5, 1, 2], 'Fe': [3, 4, 5], 'Pb': [15, 20, 30]}\n",
    "radii = [1, 2, 3]\n",
    "Names = [\"Linear\", \"Superficial\", \"Volumetric\"]\n",
    "\n",
    "\n",
    "functions = [lambda r, d: 2*pi*r*d, lambda r, d: pi*d*r**2, lambda r, d: 3/4*pi*d*r**3]\n",
    "\n",
    "Densities['Fe'][0]\n",
    "\n",
    "for i, func in enumerate(functions):\n",
    "   for r, d in zip(radii, Densities):\n",
    "      print(f\"The {Names[i]} volume of {d} for a given radius {r} is: {func(r, Densities[d][i])}\")"
   ]
  },
  {
   "cell_type": "markdown",
   "metadata": {},
   "source": [
    "6\\. Edit the class defintion to add an instance attribute of is_hungry = True to the Dog class. Then add a method called eat() which changes the value of is_hungry to False when called. Figure out the best way to feed each dog and then output “My dogs are hungry.” if all are hungry or “My dogs are not hungry.” if all are not hungry. The final output should look like this:\n",
    "\n",
    "`I have 3 dogs. \n",
    "Tom is 6. \n",
    "Fletcher is 7. \n",
    "Larry is 9. \n",
    "And they're all mammals, of course. \n",
    "My dogs are not hungry.\n",
    "`"
   ]
  },
  {
   "cell_type": "code",
   "execution_count": 38,
   "metadata": {},
   "outputs": [
    {
     "name": "stdout",
     "output_type": "stream",
     "text": [
      "Tom\n"
     ]
    }
   ],
   "source": [
    "class Dog:\n",
    "\n",
    "    # Class attribute\n",
    "    species = 'mammal'\n",
    "\n",
    "    # Initializer / Instance attributes\n",
    "    def __init__(self, name, age, hungry = True):\n",
    "        self.name = name\n",
    "        self.age = age\n",
    "        self.hungry = hungry\n",
    "\n",
    "    # instance method\n",
    "    def description(self):\n",
    "        return \"{} is {} years old\".format(self.name, self.age)\n",
    "\n",
    "    # instance method\n",
    "    def speak(self, sound):\n",
    "        return \"{} says {}\".format(self.name, sound)\n",
    "    \n",
    "    def eat(self):\n",
    "        self.hungry = False\n",
    "\n",
    "# Child class (inherits from Dog class)\n",
    "class RussellTerrier(Dog):\n",
    "    def run(self, speed):\n",
    "        return \"{} runs {}\".format(self.name, speed)\n",
    "\n",
    "# Child class (inherits from Dog class)\n",
    "class Bulldog(Dog):\n",
    "    def run(self, speed):\n",
    "        return \"{} runs {}\".format(self.name, speed)\n",
    "    \n",
    "\n",
    "# Tom = RussellTerrier('Tom', 6)\n",
    "# Fletcher = Bulldog('Fletcher', 7)\n",
    "# Larry = RussellTerrier('Larry', 9)\n",
    "\n",
    "# Tom = Tom.eat\n",
    "\n",
    "\n",
    "#!NOT DONE!"
   ]
  },
  {
   "cell_type": "code",
   "execution_count": null,
   "metadata": {},
   "outputs": [],
   "source": []
  }
 ],
 "metadata": {
  "kernelspec": {
   "display_name": "base",
   "language": "python",
   "name": "python3"
  },
  "language_info": {
   "codemirror_mode": {
    "name": "ipython",
    "version": 3
   },
   "file_extension": ".py",
   "mimetype": "text/x-python",
   "name": "python",
   "nbconvert_exporter": "python",
   "pygments_lexer": "ipython3",
   "version": "3.12.2"
  }
 },
 "nbformat": 4,
 "nbformat_minor": 2
}
