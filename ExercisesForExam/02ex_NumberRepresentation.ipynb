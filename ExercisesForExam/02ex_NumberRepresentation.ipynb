{
 "cells": [
  {
   "cell_type": "markdown",
   "metadata": {},
   "source": [
    "1\\. Write a function that converts number representation, bin<->dec<->hex. (Clearly using the corresponding python built-in functions is not fair..)"
   ]
  },
  {
   "cell_type": "code",
   "execution_count": 78,
   "metadata": {},
   "outputs": [
    {
     "name": "stdout",
     "output_type": "stream",
     "text": [
      "01000 in decimal base is:  8 and in hex base is:  08\n"
     ]
    }
   ],
   "source": [
    "HexBinDict = {\n",
    "   '0': '0000',\n",
    "   '1': '0001',\n",
    "   '2': '0010',\n",
    "   '3': '0011',\n",
    "   '4': '0100',\n",
    "   '5': '0101',\n",
    "   '6': '0110',\n",
    "   '7': '0111',\n",
    "   '8': '1000',\n",
    "   '9': '1001',\n",
    "   'A': '1010',\n",
    "   'B': '1011',\n",
    "   'C': '1100',\n",
    "   'D': '1101',\n",
    "   'E': '1110',\n",
    "   'F': '1111',\n",
    "\n",
    "   '0000': '0',\n",
    "   '0001': '1',\n",
    "   '0010': '2',\n",
    "   '0011': '3',\n",
    "   '0100': '4',\n",
    "   '0101': '5',\n",
    "   '0110': '6',\n",
    "   '0111': '7',\n",
    "   '1000': '8',\n",
    "   '1001': '9',\n",
    "   '1010': 'A',\n",
    "   '1011': 'B',\n",
    "   '1100': 'C',\n",
    "   '1101': 'D',\n",
    "   '1110': 'E',\n",
    "   '1111': 'F'\n",
    "\n",
    "}\n",
    "\n",
    "\n",
    "\n",
    "\n",
    "def BinaryToDec(number):\n",
    "\n",
    "   sum = 0\n",
    "   for i, bin in enumerate(number[::-1], start = 0):\n",
    "      sum += int(bin)*2**(i)\n",
    "\n",
    "\n",
    "   return sum\n",
    "\n",
    "\n",
    "def HexToBinary(number):\n",
    "\n",
    "   BinaryNumber = ''\n",
    "\n",
    "   for i in number:\n",
    "      BinaryNumber += HexBinDict[i]\n",
    "\n",
    "   return BinaryNumber\n",
    "\n",
    "def DecToBinary(number):\n",
    "\n",
    "   BinaryNumber = ''\n",
    "\n",
    "   while number != 0:\n",
    "      \n",
    "      BinaryNumber +=  str(number % 2)\n",
    "      number = number // 2\n",
    "\n",
    "   print(BinaryNumber[::-1])\n",
    "   #return BinaryNumber[::-1]\n",
    "\n",
    "def BinaryToHex(number):\n",
    "\n",
    "   HexNumber = ''\n",
    "\n",
    "   if (len(number) % 4 == 0):\n",
    "\n",
    "      for i in range(len(number) // 4):\n",
    "         HexNumber += HexBinDict[number[4*i:4*(i+1)]]\n",
    "\n",
    "   else:\n",
    "      CharToFour = 0\n",
    "\n",
    "      if len(number) < 4:\n",
    "         CharToFour = 4 - len(number)\n",
    "\n",
    "      else:\n",
    "         CharToFour = (((len(number) // 4) + 1) * 4) - len(number)\n",
    "\n",
    "   \n",
    "      #Or i could use: CharToFour = (4 - len(number) % 4) % 4\n",
    "\n",
    "      number = '0'*CharToFour + number\n",
    "\n",
    "      for i in range(len(number) // 4):\n",
    "         HexNumber += HexBinDict[number[4*i:4*(i+1)]]\n",
    "\n",
    "   return HexNumber\n",
    "\n",
    "def Converts(number, base):\n",
    "\n",
    "   if base == 2:\n",
    "      print(number, \"in decimal base is: \", BinaryToDec(number), \"and in hex base is: \", BinaryToHex(number))\n",
    "\n",
    "   elif base == 10:\n",
    "      print(number, \"in binary base is: \", DecToBinary(number), \"and in hex base is: \", BinaryToHex(DecToBinary(number)))\n",
    "\n",
    "   elif base == 16:\n",
    "      print(f\"{number} in binary base is: {HexToBinary(number)} and in decimal base is: {BinaryToDec(HexToBinary(number))}\")\n",
    "\n",
    "\n",
    "Converts('01000', 2)"
   ]
  },
  {
   "cell_type": "code",
   "execution_count": 73,
   "metadata": {},
   "outputs": [
    {
     "data": {
      "text/plain": [
       "3"
      ]
     },
     "execution_count": 73,
     "metadata": {},
     "output_type": "execute_result"
    }
   ],
   "source": [
    "(4 - 9 % 4) % 4"
   ]
  },
  {
   "cell_type": "markdown",
   "metadata": {},
   "source": [
    "2\\. Write a function that converts a 32 bit word into a single precision floating point (i.e. interprets the various bits as sign, mantissa and exponent)"
   ]
  },
  {
   "cell_type": "code",
   "execution_count": 16,
   "metadata": {},
   "outputs": [
    {
     "name": "stdout",
     "output_type": "stream",
     "text": [
      "Sign: 0, exponent: 11110000, mantissa: 01000000000000000100000\n",
      "The floating number is 1.2980781760418326e+34\n"
     ]
    }
   ],
   "source": [
    "import numpy as np\n",
    "\n",
    "#1 sing \n",
    "#8 exponent\n",
    "#23 mantissa \n",
    "\n",
    "word = '01111000001000000000000000100000'\n",
    "\n",
    "def WordToNumber(word):\n",
    "\n",
    "   sign = word[0]\n",
    "   exponent = word[1:9]\n",
    "   mantissa = word[9:]\n",
    "\n",
    "   sum = 0\n",
    "   for i, bit in enumerate(mantissa, start=1):\n",
    "      sum += int(bit)*2**(-i)\n",
    "\n",
    "   exp = int(exponent, 2) - 127\n",
    "\n",
    "   FloatNumber = (-1)**int(sign) * (1 + sum) * 2**(exp)\n",
    "   \n",
    "   print(f\"Sign: {sign}, exponent: {exponent}, mantissa: {mantissa}\")\n",
    "   print(f\"The floating number is {FloatNumber}\")\n",
    "\n",
    "\n",
    "\n",
    "WordToNumber(word)"
   ]
  },
  {
   "cell_type": "markdown",
   "metadata": {},
   "source": [
    "3\\. Write a program to determine the underflow and overflow limits (within a factor of 2) for python on your computer. \n",
    "\n",
    "**Tips**: define two variables inizialized to 1 and halve/double them enough time to exceed the under/over-flow limits  "
   ]
  },
  {
   "cell_type": "markdown",
   "metadata": {},
   "source": [
    "4\\. Write a program to determine the machine precision\n",
    "\n",
    "**Tips**: define a new variable by adding a smaller and smaller value (proceeding similarly to prob. 2) to an original variable and check the point where the two are the same "
   ]
  },
  {
   "cell_type": "code",
   "execution_count": 25,
   "metadata": {},
   "outputs": [
    {
     "name": "stdout",
     "output_type": "stream",
     "text": [
      "Machine precision not yet reached at 0.1\n",
      "Machine precision not yet reached at 0.01\n",
      "Machine precision not yet reached at 0.001\n",
      "Machine precision not yet reached at 0.0001\n",
      "Machine precision not yet reached at 1e-05\n",
      "Machine precision not yet reached at 1e-06\n",
      "Machine precision not yet reached at 1e-07\n",
      "Machine precision not yet reached at 1e-08\n",
      "Machine precision not yet reached at 1e-09\n",
      "Machine precision not yet reached at 1e-10\n",
      "Machine precision not yet reached at 1e-11\n",
      "Machine precision not yet reached at 1e-12\n",
      "Machine precision not yet reached at 1e-13\n",
      "Machine precision not yet reached at 1e-14\n",
      "Machine precision not yet reached at 1e-15\n",
      "1e-16 is the machine precision\n"
     ]
    }
   ],
   "source": [
    "b = 3\n",
    "\n",
    "N = [10**(-x) for x in range(1, 100)]\n",
    "\n",
    "c = []\n",
    "for i in N:\n",
    "   c = b + i\n",
    "\n",
    "   if c == b:\n",
    "      print(f\"{i} is the machine precision\")\n",
    "      break\n",
    "\n",
    "   else:\n",
    "      print(f\"Machine precision not yet reached at {i}\")"
   ]
  },
  {
   "cell_type": "markdown",
   "metadata": {},
   "source": [
    "5\\. Write a function that takes in input three parameters $a$, $b$ and $c$ and prints out the two solutions to the quadratic equation $ax^2+bx+c=0$ using the standard formula:\n",
    "$$\n",
    "x=\\frac{-b\\pm\\sqrt{b^2-4ac}}{2a}\n",
    "$$\n",
    "\n",
    "(a) use the program to compute the solution for $a=0.001$, $b=1000$ and $c=0.001$\n",
    "\n",
    "(b) re-express the standard solution formula by multiplying top and bottom by $-b\\mp\\sqrt{b^2-4ac}$ and again find the solution for $a=0.001$, $b=1000$ and $c=0.001$. How does it compare with what previously obtained? Why?\n",
    "\n",
    "(c) write a function that compute the roots of a quadratic equation accurately in all cases"
   ]
  },
  {
   "cell_type": "markdown",
   "metadata": {},
   "source": [
    "6\\. Write a program that implements the function $f(x)=x(x−1)$\n",
    "\n",
    "(a) Calculate the derivative of the function at the point $x = 1$ using the derivative definition:\n",
    "\n",
    "$$\n",
    "\\frac{{\\rm d}f}{{\\rm d}x} = \\lim_{\\delta\\to0} \\frac{f(x+\\delta)-f(x)}{\\delta}\n",
    "$$\n",
    "\n",
    "with $\\delta = 10^{−2}$. Calculate the true value of the same derivative analytically and compare with the answer your program gives. The two will not agree perfectly. Why not?\n",
    "\n",
    "(b) Repeat the calculation for $\\delta = 10^{−4}, 10^{−6}, 10^{−8}, 10^{−10}, 10^{−12}$ and $10^{−14}$. How does the accuracy scales with $\\delta$?"
   ]
  },
  {
   "cell_type": "markdown",
   "metadata": {},
   "source": [
    "7\\. Consider the integral of the semicircle of radius 1:\n",
    "$$\n",
    "I=\\int_{-1}^{1} \\sqrt(1-x^2) {\\rm d}x\n",
    "$$\n",
    "which it's known to be $I=\\frac{\\pi}{2}=1.57079632679...$.\n",
    "Alternatively we can use the Riemann definition of the integral:\n",
    "$$\n",
    "I=\\lim_{N\\to\\infty} \\sum_{k=1}^{N} h y_k \n",
    "$$\n",
    "\n",
    "with $h=2/N$ the width of each of the $N$ slices the domain is divided into and where\n",
    "$y_k$ is the value of the function at the $k-$th slice.\n",
    "\n",
    "(a) Write a programe to compute the integral with $N=100$. How does the result compares to the true value?\n",
    "\n",
    "(b) How much can $N$ be increased if the computation needs to be run in less than a second? What is the gain in running it for 1 minute? \n"
   ]
  },
  {
   "cell_type": "code",
   "execution_count": null,
   "metadata": {},
   "outputs": [],
   "source": []
  }
 ],
 "metadata": {
  "kernelspec": {
   "display_name": "base",
   "language": "python",
   "name": "python3"
  },
  "language_info": {
   "codemirror_mode": {
    "name": "ipython",
    "version": 3
   },
   "file_extension": ".py",
   "mimetype": "text/x-python",
   "name": "python",
   "nbconvert_exporter": "python",
   "pygments_lexer": "ipython3",
   "version": "3.12.2"
  }
 },
 "nbformat": 4,
 "nbformat_minor": 2
}
