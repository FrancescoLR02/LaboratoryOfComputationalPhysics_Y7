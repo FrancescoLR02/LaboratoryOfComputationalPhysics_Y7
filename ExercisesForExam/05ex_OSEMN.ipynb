{
 "cells": [
  {
   "cell_type": "markdown",
   "metadata": {},
   "source": [
    "# OSEMN Exercises"
   ]
  },
  {
   "cell_type": "code",
   "execution_count": 1,
   "metadata": {},
   "outputs": [],
   "source": [
    "%matplotlib inline\n",
    "import pandas as pd\n",
    "import numpy as np"
   ]
  },
  {
   "cell_type": "markdown",
   "metadata": {},
   "source": [
    "1\\. Create a random list of number and then save it to a text file named \"simple_data.txt\""
   ]
  },
  {
   "cell_type": "markdown",
   "metadata": {},
   "source": [
    "2\\. Create a random matrix of 5x5 and then save it to a text file named \"data.txt\""
   ]
  },
  {
   "cell_type": "code",
   "execution_count": 7,
   "metadata": {},
   "outputs": [],
   "source": [
    "RandomList = np.random.random((5))\n",
    "RandomMatrix = np.random.random((5, 5))\n",
    "\n",
    "\n",
    "np.savetxt(\"simple_data.txt\", RandomList)\n",
    "np.savetxt(\"data.txt\", RandomMatrix)"
   ]
  },
  {
   "cell_type": "markdown",
   "metadata": {},
   "source": [
    "3\\. Load the saved txt file of point 2 and convert it to a csv file (by hand)"
   ]
  },
  {
   "cell_type": "code",
   "execution_count": 10,
   "metadata": {},
   "outputs": [
    {
     "name": "stdout",
     "output_type": "stream",
     "text": [
      "6.228652440135672430e-01,4.961935267117797421e-01,4.835991636387535486e-01,4.230036009398221442e-01,7.227211831500136574e-01\n",
      "\n",
      "1.854883770341064775e-01,9.734142342154883387e-02,4.809617518212205844e-02,4.207218274246120604e-01,3.522526748966670063e-02\n",
      "\n",
      "4.009540584406167119e-01,5.514923675978781192e-01,3.647821590313174989e-01,1.603974131397133407e-01,2.792756295422993418e-01\n",
      "\n",
      "5.093037503591697490e-01,3.866650200753151134e-01,5.390385222294888923e-01,2.000446011014723746e-01,5.168122748425454382e-01\n",
      "\n",
      "5.776144574171394597e-01,8.606198242475460169e-01,4.236339539418126909e-01,3.470823634672428604e-01,2.095747332304204180e-01\n",
      "\n"
     ]
    }
   ],
   "source": [
    "with open(\"data.txt\", 'r') as file:\n",
    "   for line in file:\n",
    "      line = line.replace(\" \", \",\")\n",
    "      print(line)"
   ]
  },
  {
   "cell_type": "markdown",
   "metadata": {},
   "source": [
    "4\\. load the binary file named *credit_card.dat* and convert the data into the real credit-card number.\n",
    "Each line correspond to a credit card number.\n",
    "Each character is composed by 6 bit (even the space) and the last 4 bit are just a padding\n",
    "\n",
    "**hint**: use the `chr()` function to convert a number to a char"
   ]
  },
  {
   "cell_type": "code",
   "execution_count": 32,
   "metadata": {},
   "outputs": [
    {
     "name": "stdout",
     "output_type": "stream",
     "text": [
      "1002\n"
     ]
    }
   ],
   "source": [
    "#! REDO!!\n",
    "\n",
    "with open(\"credit_card.dat\", \"r\") as file:\n",
    "   \n",
    "   NumberOfCC = ' '\n",
    "   for line in file:\n",
    "\n",
    "      for i in range(0, len(line) - 4, 6):\n",
    "         NumberOfCC += chr(int(line[i:i+6], 2))\n",
    "\n",
    "#print(f\"The credit numbers are: \\n {NumberOfCC}\")"
   ]
  },
  {
   "cell_type": "markdown",
   "metadata": {},
   "source": [
    "5\\. Load the file \"user_data.json\", filter the data by the \"CreditCardType\" field equals to \"American Express\". Than save the data a to CSV."
   ]
  },
  {
   "cell_type": "code",
   "execution_count": null,
   "metadata": {},
   "outputs": [],
   "source": [
    "df = pd.read_json(\"user_data.json\")\n",
    "\n",
    "Mask = df['CreditCardType'] == 'American Express'\n",
    "\n",
    "AmericanExpressCard = df[Mask]\n",
    "AmericanExpressCard.to_csv(\"AmericanExpressCard.csv\")"
   ]
  },
  {
   "cell_type": "markdown",
   "metadata": {},
   "source": [
    "6\\. Load the file from this url: [https://www.dropbox.com/s/7u3lm737ogbqsg8/mushrooms_categorized.csv?dl=1](https://www.dropbox.com/s/7u3lm737ogbqsg8/mushrooms_categorized.csv?dl=1) with Pandas. \n",
    "+ Explore the data (see the info of the data)\n",
    "+ Draw the istogram of the 'class' field. Decribe wath yuou see\n"
   ]
  },
  {
   "cell_type": "markdown",
   "metadata": {},
   "source": [
    "7\\. Load the remote file [https://www.dropbox.com/s/vkl89yce7xjdq4n/regression_generated.csv?dl=1](https://www.dropbox.com/s/vkl89yce7xjdq4n/regression_generated.csv?dl=1) with Pandas and plot a scatter plot all possible combination of the following fields:\n",
    "    \n",
    "  + features_1\n",
    "  + features_2\n",
    "  + features_3"
   ]
  },
  {
   "cell_type": "markdown",
   "metadata": {},
   "source": [
    "8\\. Load the same file of point 6, and convert the file to json with Pandas."
   ]
  }
 ],
 "metadata": {
  "kernelspec": {
   "display_name": "base",
   "language": "python",
   "name": "python3"
  },
  "language_info": {
   "codemirror_mode": {
    "name": "ipython",
    "version": 3
   },
   "file_extension": ".py",
   "mimetype": "text/x-python",
   "name": "python",
   "nbconvert_exporter": "python",
   "pygments_lexer": "ipython3",
   "version": "3.12.2"
  }
 },
 "nbformat": 4,
 "nbformat_minor": 2
}
